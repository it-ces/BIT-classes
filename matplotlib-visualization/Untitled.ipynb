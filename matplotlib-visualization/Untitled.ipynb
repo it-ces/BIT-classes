{
 "cells": [
  {
   "cell_type": "code",
   "execution_count": null,
   "metadata": {},
   "outputs": [],
   "source": []
  },
  {
   "cell_type": "code",
   "execution_count": 1,
   "metadata": {},
   "outputs": [],
   "source": [
    "import matplotlib.pyplot as plt\n",
    "import matplotlib.animation as animation\n",
    "from matplotlib.animation import FuncAnimation"
   ]
  },
  {
   "cell_type": "code",
   "execution_count": null,
   "metadata": {},
   "outputs": [],
   "source": []
  },
  {
   "cell_type": "code",
   "execution_count": 2,
   "metadata": {},
   "outputs": [
    {
     "ename": "NameError",
     "evalue": "name 'pop' is not defined",
     "output_type": "error",
     "traceback": [
      "\u001b[0;31m---------------------------------------------------------------------------\u001b[0m",
      "\u001b[0;31mNameError\u001b[0m                                 Traceback (most recent call last)",
      "\u001b[0;32m<ipython-input-2-39845b6affd1>\u001b[0m in \u001b[0;36m<module>\u001b[0;34m\u001b[0m\n\u001b[1;32m      2\u001b[0m \u001b[0msample\u001b[0m\u001b[0;34m=\u001b[0m \u001b[0;36m30\u001b[0m\u001b[0;34m\u001b[0m\u001b[0;34m\u001b[0m\u001b[0m\n\u001b[1;32m      3\u001b[0m \u001b[0mN\u001b[0m\u001b[0;34m=\u001b[0m \u001b[0;36m9800\u001b[0m\u001b[0;34m\u001b[0m\u001b[0;34m\u001b[0m\u001b[0m\n\u001b[0;32m----> 4\u001b[0;31m \u001b[0mmeans\u001b[0m \u001b[0;34m=\u001b[0m \u001b[0;34m[\u001b[0m\u001b[0;34m(\u001b[0m\u001b[0mnp\u001b[0m\u001b[0;34m.\u001b[0m\u001b[0msum\u001b[0m\u001b[0;34m(\u001b[0m\u001b[0mnp\u001b[0m\u001b[0;34m.\u001b[0m\u001b[0mrandom\u001b[0m\u001b[0;34m.\u001b[0m\u001b[0mchoice\u001b[0m\u001b[0;34m(\u001b[0m\u001b[0mpop\u001b[0m\u001b[0;34m,\u001b[0m \u001b[0msize\u001b[0m\u001b[0;34m=\u001b[0m\u001b[0msample\u001b[0m \u001b[0;34m,\u001b[0m \u001b[0mreplace\u001b[0m\u001b[0;34m=\u001b[0m\u001b[0;32mTrue\u001b[0m\u001b[0;34m)\u001b[0m\u001b[0;34m)\u001b[0m \u001b[0;34m/\u001b[0m \u001b[0msample\u001b[0m\u001b[0;34m)\u001b[0m \u001b[0;32mfor\u001b[0m \u001b[0mx\u001b[0m \u001b[0;32min\u001b[0m \u001b[0mrange\u001b[0m\u001b[0;34m(\u001b[0m\u001b[0mN\u001b[0m\u001b[0;34m)\u001b[0m\u001b[0;34m]\u001b[0m\u001b[0;34m\u001b[0m\u001b[0;34m\u001b[0m\u001b[0m\n\u001b[0m\u001b[1;32m      5\u001b[0m \u001b[0mplt\u001b[0m\u001b[0;34m.\u001b[0m\u001b[0mhist\u001b[0m\u001b[0;34m(\u001b[0m\u001b[0mmeans\u001b[0m\u001b[0;34m)\u001b[0m\u001b[0;34m\u001b[0m\u001b[0;34m\u001b[0m\u001b[0m\n",
      "\u001b[0;32m<ipython-input-2-39845b6affd1>\u001b[0m in \u001b[0;36m<listcomp>\u001b[0;34m(.0)\u001b[0m\n\u001b[1;32m      2\u001b[0m \u001b[0msample\u001b[0m\u001b[0;34m=\u001b[0m \u001b[0;36m30\u001b[0m\u001b[0;34m\u001b[0m\u001b[0;34m\u001b[0m\u001b[0m\n\u001b[1;32m      3\u001b[0m \u001b[0mN\u001b[0m\u001b[0;34m=\u001b[0m \u001b[0;36m9800\u001b[0m\u001b[0;34m\u001b[0m\u001b[0;34m\u001b[0m\u001b[0m\n\u001b[0;32m----> 4\u001b[0;31m \u001b[0mmeans\u001b[0m \u001b[0;34m=\u001b[0m \u001b[0;34m[\u001b[0m\u001b[0;34m(\u001b[0m\u001b[0mnp\u001b[0m\u001b[0;34m.\u001b[0m\u001b[0msum\u001b[0m\u001b[0;34m(\u001b[0m\u001b[0mnp\u001b[0m\u001b[0;34m.\u001b[0m\u001b[0mrandom\u001b[0m\u001b[0;34m.\u001b[0m\u001b[0mchoice\u001b[0m\u001b[0;34m(\u001b[0m\u001b[0mpop\u001b[0m\u001b[0;34m,\u001b[0m \u001b[0msize\u001b[0m\u001b[0;34m=\u001b[0m\u001b[0msample\u001b[0m \u001b[0;34m,\u001b[0m \u001b[0mreplace\u001b[0m\u001b[0;34m=\u001b[0m\u001b[0;32mTrue\u001b[0m\u001b[0;34m)\u001b[0m\u001b[0;34m)\u001b[0m \u001b[0;34m/\u001b[0m \u001b[0msample\u001b[0m\u001b[0;34m)\u001b[0m \u001b[0;32mfor\u001b[0m \u001b[0mx\u001b[0m \u001b[0;32min\u001b[0m \u001b[0mrange\u001b[0m\u001b[0;34m(\u001b[0m\u001b[0mN\u001b[0m\u001b[0;34m)\u001b[0m\u001b[0;34m]\u001b[0m\u001b[0;34m\u001b[0m\u001b[0;34m\u001b[0m\u001b[0m\n\u001b[0m\u001b[1;32m      5\u001b[0m \u001b[0mplt\u001b[0m\u001b[0;34m.\u001b[0m\u001b[0mhist\u001b[0m\u001b[0;34m(\u001b[0m\u001b[0mmeans\u001b[0m\u001b[0;34m)\u001b[0m\u001b[0;34m\u001b[0m\u001b[0;34m\u001b[0m\u001b[0m\n",
      "\u001b[0;31mNameError\u001b[0m: name 'pop' is not defined"
     ]
    }
   ],
   "source": [
    "import numpy as np\n",
    "sample= 30\n",
    "N= 9800\n",
    "means = [(np.sum(np.random.choice(pop, size=sample , replace=True)) / sample) for x in range(N)]\n",
    "plt.hist(means)"
   ]
  },
  {
   "cell_type": "code",
   "execution_count": null,
   "metadata": {},
   "outputs": [],
   "source": []
  },
  {
   "cell_type": "markdown",
   "metadata": {},
   "source": [
    "# Important things in matplotlib\n",
    "ax.set_xlim()\n",
    "ax.set_ylim()\n",
    "* plt.clf()\n",
    "plt.gca stand for get current axes.\n",
    "\n"
   ]
  },
  {
   "cell_type": "markdown",
   "metadata": {},
   "source": [
    "# Subplots()\n",
    "plt.subplots(rows,columns)"
   ]
  },
  {
   "cell_type": "code",
   "execution_count": null,
   "metadata": {},
   "outputs": [],
   "source": [
    "fig , ax  = plt.subplots()\n",
    "# Return a figure and one axis.\n",
    "x = np.linspace(0,100,100)  # where start  - stop - number among start-stop.\n",
    "y = np.log(x)\n",
    "# With a single plot\n",
    "ax.plot(x,y)\n",
    "ax.set_title('logarithmic  $y=log(x)$')"
   ]
  },
  {
   "cell_type": "code",
   "execution_count": null,
   "metadata": {},
   "outputs": [],
   "source": [
    "fig, axes = plt.subplots(2)\n",
    "# when thera are only parameter then the axes will be a np array "
   ]
  },
  {
   "cell_type": "code",
   "execution_count": null,
   "metadata": {},
   "outputs": [],
   "source": [
    "import matplotlib.pyplot as plt\n",
    "plt.figure()\n",
    "ax = plt.gca()\n",
    "print(ax)"
   ]
  },
  {
   "cell_type": "markdown",
   "metadata": {},
   "source": [
    "# Gridspec:\n",
    "is a grid to subplots.\n",
    "specifying the number of rows and columns in the grid.\n",
    "we can get the same result with subplots."
   ]
  },
  {
   "cell_type": "code",
   "execution_count": null,
   "metadata": {},
   "outputs": [],
   "source": [
    "fig, axes = plt.subplots(ncols=3, nrows=3, constrained_layout=True)"
   ]
  },
  {
   "cell_type": "code",
   "execution_count": null,
   "metadata": {},
   "outputs": [],
   "source": [
    "fig = plt.figure(constrained_layout=True)\n",
    "spec = gridspec.GridSpec(ncols=3, nrows=3, figure=fig)\n",
    "ax1 = fig.add_subplot(spec[0, 0])\n",
    "ax2 = fig.add_subplot(spec[0, 1])\n",
    "ax3 = fig.add_subplot(spec[0, 2])\n",
    "ax4 = fig.add_subplot(spec[1, 0])\n",
    "ax5 = fig.add_subplot(spec[1, 1])\n",
    "ax6 = fig.add_subplot(spec[1, 2])\n",
    "ax7 = fig.add_subplot(spec[2, 0])\n",
    "ax8 = fig.add_subplot(spec[2, 1])\n",
    "ax9 = fig.add_subplot(spec[2, 2])"
   ]
  },
  {
   "cell_type": "code",
   "execution_count": null,
   "metadata": {},
   "outputs": [],
   "source": [
    "import matplotlib.gridspec as gridspec\n",
    "fig = plt.figure(constrained_layout=True)\n",
    "gs = fig.add_gridspec(3, 3)\n",
    "ax1 = fig.add_subplot(gs[1, :1])\n",
    "ax2 = fig.add_subplot(gs[2, :2])\n",
    "ax3 = fig.add_subplot(gs[2:, 2])\n",
    "ax4 = fig.add_subplot(gs[-1, -2])\n",
    "\n",
    "# How works gs?\n",
    "layout = diseño, disposición."
   ]
  },
  {
   "cell_type": "markdown",
   "metadata": {},
   "source": [
    "# in FuncAnimation \n",
    "the interval parameter is to speed or not the graph."
   ]
  },
  {
   "cell_type": "code",
   "execution_count": null,
   "metadata": {},
   "outputs": [],
   "source": [
    "# It is neccesary a good documentation:\n",
    "fig, ax = plt.subplots()\n",
    "scatter, = ax.plot(0,0)\n",
    "mean = 0\n",
    "sd = 1\n",
    "x,y = [],[]\n",
    "def animation_graph(iterator):\n",
    "    for _ in range(iterator):\n",
    "        x.append(np.random.normal(mean,sd))\n",
    "        y.append(np.random.normal(mean,sd))\n",
    "    return plt.scatter(x,y)\n",
    "animation = FuncAnimation(fig, func=animation_graph, frames=np.arange(0,100))\n",
    "plt.show()"
   ]
  },
  {
   "cell_type": "code",
   "execution_count": null,
   "metadata": {},
   "outputs": [],
   "source": [
    "from matplotlib import pyplot as plt\n",
    "from matplotlib.animation import FuncAnimation\n",
    "import random\n",
    "import numpy as np\n",
    "x = []\n",
    "y = []\n",
    "colors = []\n",
    "fig = plt.figure(figsize=(7,5))\n",
    "def animation_func(i):\n",
    "\tx.append(random.randint(0,100))\n",
    "\ty.append(random.randint(0,100))\n",
    "\tcolors.append(np.random.rand(1))\n",
    "\tarea = random.randint(0,30) * random.randint(0,30)\n",
    "\tplt.xlim(0,100)\n",
    "\tplt.ylim(0,100)\n",
    "\tplt.scatter(x, y, c = colors, s = area, alpha = 0.5)\n",
    "animation = FuncAnimation(fig, animation_func, interval = 100)\n",
    "plt.show()"
   ]
  },
  {
   "cell_type": "code",
   "execution_count": null,
   "metadata": {},
   "outputs": [],
   "source": [
    "from matplotlib import pyplot as plt\n",
    "from matplotlib.animation import FuncAnimation\n",
    "import numpy as np\n",
    "x = []\n",
    "y = []\n",
    "figure, ax = plt.subplots()\n",
    "# Setting limits for x and y axis\n",
    "ax.set_xlim(0, 100)\n",
    "ax.set_ylim(0, 12)\n",
    "# Since plotting a single graph\n",
    "line,  = ax.plot(0, 0) \n",
    "  \n",
    "def animation_function(i):\n",
    "    x.append(i * 15)\n",
    "    y.append(i)\n",
    "  \n",
    "    line.set_xdata(x)\n",
    "    line.set_ydata(y)\n",
    "    return line,\n",
    "  \n",
    "animation = FuncAnimation(figure,\n",
    "                          func = animation_function,\n",
    "                          frames = np.arange(0, 10, 0.1), \n",
    "                          interval = 10)\n",
    "plt.show()\n"
   ]
  },
  {
   "cell_type": "code",
   "execution_count": null,
   "metadata": {},
   "outputs": [],
   "source": [
    "import matplotlib.animation  as animation\n",
    "# In a genearl framework we need build a movie...\n",
    "#plt.cla() clear current axis\n",
    "n = 100\n",
    "x = np.random.rand(n)\n",
    "def update(current):\n",
    "    if current == n:\n",
    "        graph.event_source.stop()\n",
    "    plt.cla()\n",
    "    bins = np.arange(-4,4,0.5)\n",
    "    plt.hist(x[:current], bins = bins)    # Note here the \n",
    "    plt.axis([-4,4,0,30])  #  axis([xmin, xmax, ymin, ymax])\n",
    "    plt.gca().set_title('sampling over a normal distribution')\n",
    "    plt.gca().set_ylabel('Frecuency')\n",
    "    plt.gca().set_label('value')\n",
    "    plt.annotate('n = {}'.format(current))\n",
    "    "
   ]
  },
  {
   "cell_type": "code",
   "execution_count": null,
   "metadata": {},
   "outputs": [],
   "source": [
    "fig = plt.figure() "
   ]
  }
 ],
 "metadata": {
  "hide_input": false,
  "kernelspec": {
   "display_name": "Python 3",
   "language": "python",
   "name": "python3"
  },
  "language_info": {
   "codemirror_mode": {
    "name": "ipython",
    "version": 3
   },
   "file_extension": ".py",
   "mimetype": "text/x-python",
   "name": "python",
   "nbconvert_exporter": "python",
   "pygments_lexer": "ipython3",
   "version": "3.8.10"
  },
  "latex_envs": {
   "LaTeX_envs_menu_present": true,
   "autoclose": false,
   "autocomplete": true,
   "bibliofile": "biblio.bib",
   "cite_by": "apalike",
   "current_citInitial": 1,
   "eqLabelWithNumbers": true,
   "eqNumInitial": 1,
   "hotkeys": {
    "equation": "Ctrl-E",
    "itemize": "Ctrl-I"
   },
   "labels_anchors": false,
   "latex_user_defs": false,
   "report_style_numbering": false,
   "user_envs_cfg": false
  },
  "varInspector": {
   "cols": {
    "lenName": 16,
    "lenType": 16,
    "lenVar": 40
   },
   "kernels_config": {
    "python": {
     "delete_cmd_postfix": "",
     "delete_cmd_prefix": "del ",
     "library": "var_list.py",
     "varRefreshCmd": "print(var_dic_list())"
    },
    "r": {
     "delete_cmd_postfix": ") ",
     "delete_cmd_prefix": "rm(",
     "library": "var_list.r",
     "varRefreshCmd": "cat(var_dic_list()) "
    }
   },
   "types_to_exclude": [
    "module",
    "function",
    "builtin_function_or_method",
    "instance",
    "_Feature"
   ],
   "window_display": false
  }
 },
 "nbformat": 4,
 "nbformat_minor": 4
}
