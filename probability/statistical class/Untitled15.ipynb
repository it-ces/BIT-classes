{
 "cells": [
  {
   "cell_type": "markdown",
   "metadata": {},
   "source": [
    "# Lab bassic R to new users."
   ]
  },
  {
   "cell_type": "code",
   "execution_count": 98,
   "metadata": {},
   "outputs": [
    {
     "name": "stdout",
     "output_type": "stream",
     "text": [
      "[1] \"HELLO\"\n",
      "[1] \"PAULA\"\n"
     ]
    }
   ],
   "source": [
    "\n",
    "\n",
    "#nstall.packages(\"tidyverse\")\n",
    "#ibrary(tidyverse)\n",
    "#nstall.packages('magrittr')\n",
    "require(magrittr)\n",
    "var1=c('hello','paula')\n",
    "'hello' %>% toupper() %>% print()\n",
    "\n",
    "'paula' %>% toupper() %>% print()\n",
    "\n",
    "\n",
    "\n",
    "## RESERACH HOW WORK %IN%\n",
    "\n",
    "\n"
   ]
  },
  {
   "cell_type": "markdown",
   "metadata": {},
   "source": [
    "# Generate a dataframe:\n",
    "\n",
    "to practice some commands will be useful practice in a _dataframe_\n",
    "using the function $data.frame(x_{1}, x_{2}, ... x_{n})$  where $x_{i}$ are vectors.\n",
    "\n",
    "\n",
    "\n",
    "\n",
    "# Generate a new column\n",
    "using _mutate_ we need call the library _dpyr_\n",
    "\n",
    "# ifelse\n",
    "\n",
    "ifelse works as the following way, if the expression is True then, return out\n",
    "the fisrt value in other case return out the second variable, this coulbe nested.\n",
    "\n",
    "\n",
    "\n"
   ]
  },
  {
   "cell_type": "code",
   "execution_count": 99,
   "metadata": {},
   "outputs": [
    {
     "name": "stdout",
     "output_type": "stream",
     "text": [
      "             job wage software\n",
      "1      economist  100     none\n",
      "2 data scientist 9000  several\n",
      "3      proffesor   10     none\n",
      "[1] \"new variable\"\n",
      "    figure\n",
      "1 triangle\n",
      "2 triangle\n",
      "3   square\n",
      "4   square\n",
      "5   circle\n",
      "6   circle\n",
      "7   square\n",
      "    figure integer\n",
      "1 triangle       1\n",
      "2 triangle       1\n",
      "3   square       0\n",
      "4   square       0\n",
      "5   circle       2\n",
      "6   circle       2\n",
      "7   square       0\n"
     ]
    }
   ],
   "source": [
    "# Lab\n",
    "#generate a dataframe\n",
    "job = c('economist','data scientist','proffesor')\n",
    "wage = c('100','9000','10')\n",
    "software = c('none','several','none')\n",
    "df=data.frame(job,wage, software)\n",
    "print(df)\n",
    "\n",
    "# Creating a new variable.\n",
    "require(\"dplyr\")\n",
    "\n",
    "print(\"new variable\")\n",
    "df = mutate(df,rate = ifelse(wage>10,1,0))\n",
    "# using a pipe\n",
    "df %<>% mutate(rate2 = ifelse(wage>100,1,0))\n",
    "\n",
    "# Nested ifelse.\n",
    "figure= c('triangle','triangle','square','square','circle','circle','square')\n",
    "df2 = data.frame(figure)\n",
    "print(df2)\n",
    "# Neste ifelse.\n",
    "df2 %<>% mutate(integer = ifelse(figure =='triangle',1, ifelse(figure=='circle',2,0 )))\n",
    "print(df2)"
   ]
  },
  {
   "cell_type": "markdown",
   "metadata": {},
   "source": [
    "### Levelsof, base, value.unique\n",
    "this command is very useful to data managament."
   ]
  },
  {
   "cell_type": "code",
   "execution_count": 109,
   "metadata": {},
   "outputs": [
    {
     "data": {
      "text/html": [
       "<table>\n",
       "<caption>A data.frame: 5 x 1</caption>\n",
       "<thead>\n",
       "\t<tr><th scope=col>figure</th></tr>\n",
       "\t<tr><th scope=col>&lt;chr&gt;</th></tr>\n",
       "</thead>\n",
       "<tbody>\n",
       "\t<tr><td>triangle</td></tr>\n",
       "\t<tr><td>circle  </td></tr>\n",
       "\t<tr><td>triangle</td></tr>\n",
       "\t<tr><td>circle  </td></tr>\n",
       "\t<tr><td>triangle</td></tr>\n",
       "</tbody>\n",
       "</table>\n"
      ],
      "text/latex": [
       "A data.frame: 5 x 1\n",
       "\\begin{tabular}{l}\n",
       " figure\\\\\n",
       " <chr>\\\\\n",
       "\\hline\n",
       "\t triangle\\\\\n",
       "\t circle  \\\\\n",
       "\t triangle\\\\\n",
       "\t circle  \\\\\n",
       "\t triangle\\\\\n",
       "\\end{tabular}\n"
      ],
      "text/markdown": [
       "\n",
       "A data.frame: 5 x 1\n",
       "\n",
       "| figure &lt;chr&gt; |\n",
       "|---|\n",
       "| triangle |\n",
       "| circle   |\n",
       "| triangle |\n",
       "| circle   |\n",
       "| triangle |\n",
       "\n"
      ],
      "text/plain": [
       "  figure  \n",
       "1 triangle\n",
       "2 circle  \n",
       "3 triangle\n",
       "4 circle  \n",
       "5 triangle"
      ]
     },
     "metadata": {},
     "output_type": "display_data"
    },
    {
     "data": {
      "text/html": [
       "<table>\n",
       "<caption>A data.frame: 2 x 1</caption>\n",
       "<thead>\n",
       "\t<tr><th scope=col>figure</th></tr>\n",
       "\t<tr><th scope=col>&lt;chr&gt;</th></tr>\n",
       "</thead>\n",
       "<tbody>\n",
       "\t<tr><td>triangle</td></tr>\n",
       "\t<tr><td>circle  </td></tr>\n",
       "</tbody>\n",
       "</table>\n"
      ],
      "text/latex": [
       "A data.frame: 2 x 1\n",
       "\\begin{tabular}{l}\n",
       " figure\\\\\n",
       " <chr>\\\\\n",
       "\\hline\n",
       "\t triangle\\\\\n",
       "\t circle  \\\\\n",
       "\\end{tabular}\n"
      ],
      "text/markdown": [
       "\n",
       "A data.frame: 2 x 1\n",
       "\n",
       "| figure &lt;chr&gt; |\n",
       "|---|\n",
       "| triangle |\n",
       "| circle   |\n",
       "\n"
      ],
      "text/plain": [
       "  figure  \n",
       "1 triangle\n",
       "2 circle  "
      ]
     },
     "metadata": {},
     "output_type": "display_data"
    },
    {
     "data": {
      "text/html": [
       "<table>\n",
       "<caption>A data.frame: 2 x 1</caption>\n",
       "<thead>\n",
       "\t<tr><th scope=col>figure</th></tr>\n",
       "\t<tr><th scope=col>&lt;chr&gt;</th></tr>\n",
       "</thead>\n",
       "<tbody>\n",
       "\t<tr><td>triangle</td></tr>\n",
       "\t<tr><td>circle  </td></tr>\n",
       "</tbody>\n",
       "</table>\n"
      ],
      "text/latex": [
       "A data.frame: 2 x 1\n",
       "\\begin{tabular}{l}\n",
       " figure\\\\\n",
       " <chr>\\\\\n",
       "\\hline\n",
       "\t triangle\\\\\n",
       "\t circle  \\\\\n",
       "\\end{tabular}\n"
      ],
      "text/markdown": [
       "\n",
       "A data.frame: 2 x 1\n",
       "\n",
       "| figure &lt;chr&gt; |\n",
       "|---|\n",
       "| triangle |\n",
       "| circle   |\n",
       "\n"
      ],
      "text/plain": [
       "  figure  \n",
       "1 triangle\n",
       "2 circle  "
      ]
     },
     "metadata": {},
     "output_type": "display_data"
    }
   ],
   "source": [
    "figure = c('triangle','circle','triangle','circle','triangle')\n",
    "number = c('1','two','3','four','5')\n",
    "df = data.frame(figure)\n",
    "\n",
    "\n",
    "\n",
    "select(df, figure) \n",
    "distinct(select(df,figure))\n",
    "print('Using Pipes')\n",
    "\n",
    "\n",
    "df %>% select(figure) %>% distinct()"
   ]
  },
  {
   "cell_type": "markdown",
   "metadata": {},
   "source": [
    "## String manipulation  is very important to clean data.\n",
    "the function $nchar(v_{1}...v:{n})$ allow us to know how many characters are compond each element in a vector.\n",
    "\n",
    "removeNumbers(vector/text.).\n",
    "\n",
    "### substr() and substring().\n",
    "these functions allow us extract chains of string.\n",
    "$substr(text, start=, stop=)\n",
    "\n",
    "\n"
   ]
  },
  {
   "cell_type": "code",
   "execution_count": 113,
   "metadata": {},
   "outputs": [
    {
     "data": {
      "text/html": [
       "<style>\n",
       ".list-inline {list-style: none; margin:0; padding: 0}\n",
       ".list-inline>li {display: inline-block}\n",
       ".list-inline>li:not(:last-child)::after {content: \"\\00b7\"; padding: 0 .5ex}\n",
       "</style>\n",
       "<ol class=list-inline><li>4</li><li>3</li><li>3</li><li>4</li><li>5</li><li>5</li><li>3</li><li>3</li></ol>\n"
      ],
      "text/latex": [
       "\\begin{enumerate*}\n",
       "\\item 4\n",
       "\\item 3\n",
       "\\item 3\n",
       "\\item 4\n",
       "\\item 5\n",
       "\\item 5\n",
       "\\item 3\n",
       "\\item 3\n",
       "\\end{enumerate*}\n"
      ],
      "text/markdown": [
       "1. 4\n",
       "2. 3\n",
       "3. 3\n",
       "4. 4\n",
       "5. 5\n",
       "6. 5\n",
       "7. 3\n",
       "8. 3\n",
       "\n",
       "\n"
      ],
      "text/plain": [
       "[1] 4 3 3 4 5 5 3 3"
      ]
     },
     "metadata": {},
     "output_type": "display_data"
    },
    {
     "data": {
      "text/html": [
       "'this'"
      ],
      "text/latex": [
       "'this'"
      ],
      "text/markdown": [
       "'this'"
      ],
      "text/plain": [
       "[1] \"this\""
      ]
     },
     "metadata": {},
     "output_type": "display_data"
    }
   ],
   "source": [
    "names = c('Red1', 'Red', 'red', ' red', ' red ', 'Red 1', 'rED','R3d')\n",
    "nchar(names)\n",
    "\n",
    "text = 'this text contain several characters'\n",
    "\n",
    "substr(text, 1, 4)\n",
    "\n",
    "\n",
    "\n"
   ]
  }
 ],
 "metadata": {
  "kernelspec": {
   "display_name": "R",
   "language": "R",
   "name": "ir"
  },
  "language_info": {
   "codemirror_mode": "r",
   "file_extension": ".r",
   "mimetype": "text/x-r-source",
   "name": "R",
   "pygments_lexer": "r",
   "version": "4.0.2"
  }
 },
 "nbformat": 4,
 "nbformat_minor": 4
}
