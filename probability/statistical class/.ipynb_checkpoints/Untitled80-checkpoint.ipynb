{
 "cells": [
  {
   "cell_type": "markdown",
   "metadata": {},
   "source": [
    "#### Iván A. Trujillo \n",
    "##### Pontificia Universidad Javeriana - Universidad Surcolombiana\n",
    "\n",
    "# Relative Position \n",
    "Suppose that you take a test and your score according yo your perspective it is very high due the higher value it is 100 and you get 89, however this could be very ambigous  and could lead to mistakes. why? suppose that you all of your partners have a score among 91 and 94 points. therefore you will be last regard to the group, for this situation it is useful make relative the variable.\n",
    "\n",
    "$$ Z_{i} = \\frac{x_{i}-\\mu}{\\sigma}$$\n",
    "\n",
    "this means could be read as the observations it at $z_{i}$ standard deviation from mean.\n",
    "Useful properties of the Z,\n",
    "$$ Z_{i} =\\frac{x}{\\sigma} - \\frac{\\mu}{\\sigma}$$\n",
    "\n",
    "$$ E(Z) = \\frac{1}{\\sigma}E(x) - \\frac{1}{\\sigma}E(\\mu)$$\n",
    "thus $ E(x)=\\mu $ and  $E(Z)=0$.\n",
    "\n",
    "Another interesting property is that the var(Z) = 1.\n",
    "\n",
    "$$ var(Z)  =  var(\\frac{x - \\mu}{\\sigma})$$\n",
    "$$  = \\frac{1}\n",
    "{\\sigma^2} var(x-\\mu) $$\n",
    "Note that $var(x - \\mu) = var(x) = \\sigma^2$ and therefore this is one."
   ]
  },
  {
   "cell_type": "markdown",
   "metadata": {},
   "source": [
    "# Central Limit Theorem \n",
    "\n",
    "\n",
    "\n",
    "# Hypothesis testing\n",
    "\n",
    "Sometimes we are interested in prove a hypothesis about a fact, for instance.\n",
    "if we the number of individuals in a population have e collie.\n",
    "we can conjecture that  $\\Theta$ of $n$ have and in a sampling that we can get a number $x_{s}$ given a a true parameter in this case $\\Omega$ it is our parameter or the prevalence of Ecollie in the population.\n",
    "\n",
    "$$ P(X= x_{s} , \\Omega)$$\n",
    "\n",
    "a $H_{0}$ denominated null hypothesis it is \"planteada\" to probe a conjecture, ussualy in comparation with another hypothesis denominated alternative $H_{1}$.\n",
    "\n",
    "The idea behind the formulation it is evaluate the probability of get a value $x_{s}$ according to a parameter $\\Omega_{H_{o}}$.\n",
    "\n",
    "\n",
    "## Type error one and two\n",
    "When choose a type of alternative we can carry out, two kind of error \n",
    " * Error type one it is reject the null hypothesis $H_{0}$ when it is True\n",
    " * Error type two it is accept the null hypothesis $H_{0}$ when it is False\n",
    " \n",
    "One important concept about the hypothesis testing it is the $\\alpha$ the significance level, what means the probability of making a type one error. When you reject the hypothesis means that the evidence refute the conjecture, while we accept this means that there are not enough sampling evidence to reject the hypothesis.\n",
    "\n",
    "## Confidence interval and hypothesis testing.\n",
    "\n",
    "$$ p( Z_{\\frac{\\alpha}{2}} < \\frac{\\hat{x} - \\mu}{\\frac{\\sigma}{\\sqrt{n}}} <  Z_{\\frac{\\alpha}{2}}) = 1-\\alpha $$\n",
    "\n",
    "and this we can resolve to $\\mu$ and construct the confidence interval.\n",
    "\n",
    "$$ p( \\hat{x}-Z_{\\frac{\\alpha}{2}} {\\frac{\\sigma}{\\sqrt{n}}} < \\mu  <  \\hat{x} + Z_{\\frac{\\alpha}{2}} {\\frac{\\sigma}{\\sqrt{n}}}) = 1-\\alpha $$\n",
    "\n"
   ]
  },
  {
   "cell_type": "code",
   "execution_count": 3,
   "metadata": {},
   "outputs": [],
   "source": [
    "import pandas as pd \n",
    "import os \n",
    "os.chdir(\"/home/ces/courses/DataAnalysis/\")\n",
    "df=pd.read_excel(\"1.1.1.TCM_Serie histórica IQY.xlsx\", skiprows=7,skipfooter=10)\n",
    "df=df.iloc[:,0:2]"
   ]
  },
  {
   "cell_type": "code",
   "execution_count": 4,
   "metadata": {},
   "outputs": [],
   "source": [
    "# df.index return the object wiht the\n",
    "# observations 0,1,....N where it is the Last Row"
   ]
  },
  {
   "cell_type": "code",
   "execution_count": 5,
   "metadata": {},
   "outputs": [
    {
     "name": "stdout",
     "output_type": "stream",
     "text": [
      "   0\n",
      "5  6\n",
      "1  2\n"
     ]
    },
    {
     "data": {
      "text/plain": [
       "array([1, 5])"
      ]
     },
     "execution_count": 5,
     "metadata": {},
     "output_type": "execute_result"
    }
   ],
   "source": [
    "population = [x for x in range(1,7)]\n",
    "population = pd.DataFrame(population)\n",
    "sampling = population.sample(2, replace=True)\n",
    "print(sampling)\n",
    "import numpy as np\n",
    "np.random.choice([1,2,3,5], size=2)"
   ]
  },
  {
   "cell_type": "code",
   "execution_count": 6,
   "metadata": {},
   "outputs": [
    {
     "data": {
      "text/plain": [
       "0    8\n",
       "dtype: int64"
      ]
     },
     "execution_count": 6,
     "metadata": {},
     "output_type": "execute_result"
    }
   ],
   "source": [
    "sampling.sum()  #sum the elements in the column 0"
   ]
  },
  {
   "cell_type": "code",
   "execution_count": 7,
   "metadata": {},
   "outputs": [
    {
     "data": {
      "text/plain": [
       "8"
      ]
     },
     "execution_count": 7,
     "metadata": {},
     "output_type": "execute_result"
    }
   ],
   "source": [
    "sampling.sum()[0] # Return only the scalar.\n"
   ]
  },
  {
   "cell_type": "code",
   "execution_count": 8,
   "metadata": {},
   "outputs": [
    {
     "data": {
      "text/plain": [
       "<BarContainer object of 11 artists>"
      ]
     },
     "execution_count": 8,
     "metadata": {},
     "output_type": "execute_result"
    },
    {
     "data": {
      "image/png": "[encoded data removed]",
      "text/plain": [
       "<Figure size 432x288 with 1 Axes>"
      ]
     },
     "metadata": {
      "needs_background": "light"
     },
     "output_type": "display_data"
    }
   ],
   "source": [
    "import time\n",
    "import matplotlib.pyplot as plt\n",
    "n=800\n",
    "sampling= [population.sample(2,replace=True).sum()[0] for x in range(n) ]\n",
    "sampling =pd.DataFrame((pd.DataFrame(sampling)[0].value_counts()).sort_index()/n)\n",
    "plt.bar(sampling.index, sampling[0])"
   ]
  },
  {
   "cell_type": "markdown",
   "metadata": {},
   "source": [
    "# PDF and CDF\n",
    "Probability density function and Cumulative Density Function.\n",
    "\n",
    "\n",
    "$$ cdf = P(X<x_{0})$$ \n",
    "$$ cdf = \\int pdf(x)$$\n",
    "However int the continous case\n"
   ]
  },
  {
   "cell_type": "code",
   "execution_count": 9,
   "metadata": {},
   "outputs": [
    {
     "data": {
      "text/plain": [
       "[<matplotlib.lines.Line2D at 0x7f38e682c820>]"
      ]
     },
     "execution_count": 9,
     "metadata": {},
     "output_type": "execute_result"
    },
    {
     "data": {
      "image/png": "[encoded data removed]",
      "text/plain": [
       "<Figure size 432x288 with 1 Axes>"
      ]
     },
     "metadata": {
      "needs_background": "light"
     },
     "output_type": "display_data"
    }
   ],
   "source": [
    "from scipy.stats import norm\n",
    "import numpy as np\n",
    "x = np.arange(-4,4,0.001)\n",
    "y = norm.pdf(x,0,1)\n",
    "cy= norm.cdf(x,0,1)\n",
    "plt.plot(x,y)\n",
    "plt.plot(x,cy)"
   ]
  },
  {
   "cell_type": "code",
   "execution_count": null,
   "metadata": {},
   "outputs": [],
   "source": []
  },
  {
   "cell_type": "markdown",
   "metadata": {},
   "source": [
    "# Shebyshev Theorem\n",
    "\n",
    "\\begin{equation}\n",
    "\\sigma^2 =  \\int_{ -\\infty}^{ \\mu - k\\sigma}f(x)dx +   \\int_{\\mu - k\\sigma}^{ \\mu + k\\sigma}f(x)dx + \\int_{\\mu - k\\sigma}^{ \\infty}f(x)dx   \\geq\n",
    "\\\\\n",
    "\\int_{ -\\infty}^{ \\mu - k\\sigma}f(x)dx +   \\int_{\\mu - k\\sigma}^{ \\mu + k\\sigma}f(x)dx + \\int_{\\mu - k\\sigma}^{ \\infty}f(x)dx   \n",
    "\\end{equation}"
   ]
  },
  {
   "cell_type": "markdown",
   "metadata": {},
   "source": [
    "in finance we can model the daily return with the normal probability distribution function.\n",
    "\n",
    "\n",
    "take in mind .std(ddof=1) in pandas.\n",
    "\n",
    "* plt.fill_between()\n",
    "\n",
    "\n",
    "# finding quantiles\n",
    "\n",
    "norm.ppf()\n",
    "percent point function.\n",
    "\n",
    "# In inference Parameters(population) and statistics(sample).\n",
    "\n"
   ]
  },
  {
   "cell_type": "code",
   "execution_count": 10,
   "metadata": {},
   "outputs": [
    {
     "data": {
      "text/plain": [
       "population    2.916667\n",
       "dtype: float64"
      ]
     },
     "execution_count": 10,
     "metadata": {},
     "output_type": "execute_result"
    }
   ],
   "source": [
    "data= pd.DataFrame()\n",
    "data['population']=[1,2,3,5]\n",
    "# the methods mean and var.\n",
    "data.var()\n"
   ]
  },
  {
   "cell_type": "markdown",
   "metadata": {},
   "source": [
    "# why $n-1$\n",
    "because of this is unbiased estimator, of variance, while divided by $n$ not supply  enough variability. \n",
    "\n",
    "A unbiased estimator means that \n",
    "$$ E(\\hat{\\Omega}= \\Omega)$$\n",
    "\n",
    "also if $var(\\Omega_{1}) < var(\\Omega_{2}) < ... < var(\\Omega_{n})$ then we said that $\\Omega_{1}$ it is a diserable estimator.\n"
   ]
  },
  {
   "cell_type": "code",
   "execution_count": 11,
   "metadata": {},
   "outputs": [
    {
     "name": "stdout",
     "output_type": "stream",
     "text": [
      "[50, 13]\n",
      "22.955 240.33562500000002 210.6425641025641\n",
      "23.0 233.6\n"
     ]
    }
   ],
   "source": [
    "import numpy as np\n",
    "population=[10,30,50,13,12]\n",
    "sample=list(np.random.choice(population, size=2))\n",
    "print(sample)\n",
    "sum(sample)\n",
    "trials = 10\n",
    "size = 40\n",
    "meanss= [np.mean((list(np.random.choice(population, size=40)))) for x in range(trials)]\n",
    "varss= [np.var((list(np.random.choice(population, size=40))), ddof=0) for x in range(trials)]\n",
    "varss1= [np.var((list(np.random.choice(population, size=40))), ddof=1) for x in range(trials)]\n",
    "emeans= np.mean(meanss)\n",
    "evars=np.mean(varss)\n",
    "evars1=np.mean(varss1)\n",
    "print(emeans, evars, evars1)\n",
    "print(np.mean(population), np.var(population))"
   ]
  },
  {
   "cell_type": "code",
   "execution_count": 12,
   "metadata": {},
   "outputs": [
    {
     "data": {
      "image/png": "[encoded data removed]",
      "text/plain": [
       "<Figure size 432x288 with 1 Axes>"
      ]
     },
     "metadata": {
      "needs_background": "light"
     },
     "output_type": "display_data"
    },
    {
     "data": {
      "image/png": "[encoded data removed]",
      "text/plain": [
       "<Figure size 432x288 with 1 Axes>"
      ]
     },
     "metadata": {
      "needs_background": "light"
     },
     "output_type": "display_data"
    }
   ],
   "source": [
    "# note: pd.DataFrame.shape no to know dimensions.\n",
    "# Statistical distributions.\n",
    "means=[]\n",
    "variance=[]\n",
    "for x in range(100):\n",
    "    sampling =list( np.random.normal(0,1, size=900))\n",
    "    means.append(np.mean(sampling))\n",
    "    variance.append(np.var(sampling, ddof=1))\n",
    "plt.hist(means, color='green')\n",
    "plt.show()\n",
    "plt.close()\n",
    "plt.hist(variance, color='blue')\n",
    "plt.show()\n",
    "\n"
   ]
  },
  {
   "cell_type": "markdown",
   "metadata": {},
   "source": [
    "# Standard normal distribution of mean.\n",
    "\n",
    "The standardization will take in mind that \n",
    "$$ z_{i}= \\frac{\\hat{x} -\\mu}{\\frac{\\sigma}{\\sqrt{n}}} $$\n",
    "\n",
    "Notes: the quantile function it is the inverse of the CDF, therefore if CDF give us the\n",
    "percent of data that are below of a value, the inverse function give us the number given  the percent in which x% of data fall below of the value.\n",
    "\n",
    "\n",
    "\n",
    "\n",
    "\n"
   ]
  },
  {
   "cell_type": "code",
   "execution_count": 13,
   "metadata": {},
   "outputs": [
    {
     "data": {
      "text/plain": [
       "[<matplotlib.lines.Line2D at 0x7f38ef0e2f40>]"
      ]
     },
     "execution_count": 13,
     "metadata": {},
     "output_type": "execute_result"
    },
    {
     "data": {
      "image/png": "[encoded data removed]",
      "text/plain": [
       "<Figure size 432x288 with 1 Axes>"
      ]
     },
     "metadata": {
      "needs_background": "light"
     },
     "output_type": "display_data"
    }
   ],
   "source": [
    "zl = norm.ppf(0.1)\n",
    "zr = norm.ppf(0.9)\n",
    "norm.cdf(1.97)\n",
    "dom = np.arange(0.01,0.999,0.01)\n",
    "y = norm.ppf(dom)\n",
    "plt.plot(dom, y)\n",
    "# the value give us the value that let  below itself %x data."
   ]
  },
  {
   "cell_type": "code",
   "execution_count": 14,
   "metadata": {},
   "outputs": [
    {
     "name": "stdout",
     "output_type": "stream",
     "text": [
      "The interval confidence is 44155.3453033662 51844.6546966338\n"
     ]
    }
   ],
   "source": [
    "# Confidence interval.\n",
    "# we can build a confidence interval\n",
    "#note if we are modelling we need to calcualate standard deviaiton according to the formula( includin **0.5)\n",
    "# N ~(48.000, 3.000)\n",
    "# confidence interval to 80%\n",
    "# rember by (8) equation.\n",
    "zr = norm.ppf(0.9)\n",
    "zl= norm.ppf(0.1)\n",
    "upl = 48000 + 3000*zr\n",
    "btl = 48000 + 3000*zl\n",
    "print(\"The interval confidence is\", btl, upl )\n"
   ]
  },
  {
   "cell_type": "markdown",
   "metadata": {},
   "source": [
    "## Linear regression and another \n",
    "words: \n",
    "fulfillment:  cumplimiento, realización.\n",
    "curse: maldición\n",
    "bookmark; marcador, señal.\n",
    "encompass: abarcar, englobar.\n",
    "landed: aterrizado , desembarcado. (owning ~ related **poseer*)\n",
    "write up form: escribir formulario\n",
    "busy: ocupado, concurrido.\n",
    "pulled off: arrancado.\n",
    "taking out: sacar.\n",
    "looked up: buscar, miró hacia arriba.\n",
    "not right upfront: no por adelantado.\n",
    "ought: debería\n",
    "elevator pitch: tono de ascensor\n",
    "upfront:delantera\n",
    "I would agree wholeheartedly: estoy de acuerdo de todo corazón.\n",
    "try it out: pruebalo \n",
    "work it out: resolverlo.\n",
    "tinkered with: jugueteando con\n",
    "facet: faceta\n",
    "goes up: subir\n",
    "overriding concern:preocupación primordial.\n",
    "thereby: de este modo.\n",
    "will span roughly: abarcará aproximadamente\n",
    "span: lapso, abarcar.\n",
    "omninibus test**\n",
    "shaky: tembloroso, vacilante.\n",
    "eyesight: vista\n",
    "delve: ahondar.\n",
    "unwieldy: pesado\n",
    "plug: enchufar.\n",
    "drifts away; se aleja.\n",
    "polling out : extracción. \n",
    "wash away: quitar, remover.\n",
    "leveraged: apalancado.\n",
    "hugging:abrazar.\n",
    "pop out : salir, saltar.\n",
    "nudge: empujar\n",
    "nasty: asqueroso\n",
    "greeted:saludado\n",
    "luggage:equipaje\n",
    "sweep out: barrer.\n",
    "boos: abucheos\n",
    "hissing: silbido.\n",
    "further out: mas lejos.\n",
    "cooked up: preparar.\n",
    "jackpot: bote, premio mayor.\n",
    "chop it off: cortarlo\n",
    "stray : extraviado.\n",
    "based off: conn sede fuera.\n",
    "Kind of what's happening here in this code chunk is we're getting rid of unused columns:\n",
    "unhinged: desquiciado.\n",
    "overlooking: con vista a.\n",
    "wrangling: disputa.\n",
    "nearby: cerca adverb , próximo ( adjective) \n",
    "comes down: desciende.\n",
    "endeavor: esforzar.\n",
    "lifting: levantamiento.\n"
   ]
  },
  {
   "cell_type": "code",
   "execution_count": 15,
   "metadata": {},
   "outputs": [],
   "source": [
    "temblorosodf = {\"x\":[1,2,3,4], \"y\":[10,11,12,14], \"outcome\":[0,1,0,1]}\n",
    "df = pd.DataFrame(df)"
   ]
  },
  {
   "cell_type": "markdown",
   "metadata": {},
   "source": [
    "## Coefficient correlation \n",
    "\n",
    "This coefficient it is a measure of the strength of linearity among two variables, in python could be calculated with from **numpy** we can compute \n",
    "```python\n",
    "np.coerrcoef(x,y)\n",
    "```\n",
    "### Using seaborn\n",
    "import seaborn as sn \n",
    "\n",
    "sns.heatmap(correlation_mat, annot = True)\n"
   ]
  },
  {
   "cell_type": "code",
   "execution_count": 16,
   "metadata": {},
   "outputs": [
    {
     "name": "stdout",
     "output_type": "stream",
     "text": [
      "          x         y\n",
      "x  1.000000  0.982708\n",
      "y  0.982708  1.000000\n"
     ]
    },
    {
     "data": {
      "text/plain": [
       "array([[1.        , 0.98270763],\n",
       "       [0.98270763, 1.        ]])"
      ]
     },
     "execution_count": 16,
     "metadata": {},
     "output_type": "execute_result"
    }
   ],
   "source": [
    "print(df[['x','y']].corr())  # This it is a excelent alternative to export.\n",
    "\n",
    "np.corrcoef(df['x'],df['y'])"
   ]
  },
  {
   "cell_type": "markdown",
   "metadata": {},
   "source": [
    "# Covariance Matrix \n"
   ]
  },
  {
   "cell_type": "markdown",
   "metadata": {},
   "source": [
    "# in linear regression sometimes we need probe if $\\beta$ is  differnte to zero\n",
    "\n",
    "\\begin{equation}\n",
    "T =    \\frac{ \\hat{\\beta} - 0}{S.E}\n",
    "\\end{equation}\n",
    "Therefore the rule of divided in the output.\n",
    "\n",
    "\n",
    "\n",
    "## Research what it is Omnibus test?\n",
    "\n",
    "\n",
    "## Durbin watson \n",
    "\n",
    "\n",
    "## Jarque - Bera"
   ]
  },
  {
   "cell_type": "markdown",
   "metadata": {},
   "source": [
    "# Introduction to Statsmodels\n"
   ]
  },
  {
   "cell_type": "markdown",
   "metadata": {},
   "source": [
    "# Statsmodels \n",
    "```python\n",
    "import statsmodels.api as sm \n",
    "```\n",
    "review df.dropna()"
   ]
  },
  {
   "cell_type": "code",
   "execution_count": 17,
   "metadata": {},
   "outputs": [
    {
     "name": "stderr",
     "output_type": "stream",
     "text": [
      "/usr/lib64/python3.8/site-packages/statsmodels/stats/stattools.py:70: ValueWarning: omni_normtest is not valid with less than 8 observations; 4 samples were given.\n",
      "  warn(\"omni_normtest is not valid with less than 8 observations; %i \"\n"
     ]
    },
    {
     "data": {
      "text/html": [
       "<table class=\"simpletable\">\n",
       "<caption>OLS Regression Results</caption>\n",
       "<tr>\n",
       "  <th>Dep. Variable:</th>         <td>outcome</td>     <th>  R-squared:         </th> <td>   0.200</td>\n",
       "</tr>\n",
       "<tr>\n",
       "  <th>Model:</th>                   <td>OLS</td>       <th>  Adj. R-squared:    </th> <td>  -0.200</td>\n",
       "</tr>\n",
       "<tr>\n",
       "  <th>Method:</th>             <td>Least Squares</td>  <th>  F-statistic:       </th> <td>  0.5000</td>\n",
       "</tr>\n",
       "<tr>\n",
       "  <th>Date:</th>             <td>Mon, 04 Jan 2021</td> <th>  Prob (F-statistic):</th>  <td> 0.553</td> \n",
       "</tr>\n",
       "<tr>\n",
       "  <th>Time:</th>                 <td>07:49:53</td>     <th>  Log-Likelihood:    </th> <td> -2.4569</td>\n",
       "</tr>\n",
       "<tr>\n",
       "  <th>No. Observations:</th>      <td>     4</td>      <th>  AIC:               </th> <td>   8.914</td>\n",
       "</tr>\n",
       "<tr>\n",
       "  <th>Df Residuals:</th>          <td>     2</td>      <th>  BIC:               </th> <td>   7.686</td>\n",
       "</tr>\n",
       "<tr>\n",
       "  <th>Df Model:</th>              <td>     1</td>      <th>                     </th>     <td> </td>   \n",
       "</tr>\n",
       "<tr>\n",
       "  <th>Covariance Type:</th>      <td>nonrobust</td>    <th>                     </th>     <td> </td>   \n",
       "</tr>\n",
       "</table>\n",
       "<table class=\"simpletable\">\n",
       "<tr>\n",
       "      <td></td>         <th>coef</th>     <th>std err</th>      <th>t</th>      <th>P>|t|</th>  <th>[0.025</th>    <th>0.975]</th>  \n",
       "</tr>\n",
       "<tr>\n",
       "  <th>Intercept</th> <td>         0</td> <td>    0.775</td> <td>        0</td> <td> 1.000</td> <td>   -3.333</td> <td>    3.333</td>\n",
       "</tr>\n",
       "<tr>\n",
       "  <th>x</th>         <td>    0.2000</td> <td>    0.283</td> <td>    0.707</td> <td> 0.553</td> <td>   -1.017</td> <td>    1.417</td>\n",
       "</tr>\n",
       "</table>\n",
       "<table class=\"simpletable\">\n",
       "<tr>\n",
       "  <th>Omnibus:</th>       <td>   nan</td> <th>  Durbin-Watson:     </th> <td>   3.400</td>\n",
       "</tr>\n",
       "<tr>\n",
       "  <th>Prob(Omnibus):</th> <td>   nan</td> <th>  Jarque-Bera (JB):  </th> <td>   0.308</td>\n",
       "</tr>\n",
       "<tr>\n",
       "  <th>Skew:</th>          <td> 0.000</td> <th>  Prob(JB):          </th> <td>   0.857</td>\n",
       "</tr>\n",
       "<tr>\n",
       "  <th>Kurtosis:</th>      <td> 1.640</td> <th>  Cond. No.          </th> <td>    7.47</td>\n",
       "</tr>\n",
       "</table><br/><br/>Warnings:<br/>[1] Standard Errors assume that the covariance matrix of the errors is correctly specified."
      ],
      "text/plain": [
       "<class 'statsmodels.iolib.summary.Summary'>\n",
       "\"\"\"\n",
       "                            OLS Regression Results                            \n",
       "==============================================================================\n",
       "Dep. Variable:                outcome   R-squared:                       0.200\n",
       "Model:                            OLS   Adj. R-squared:                 -0.200\n",
       "Method:                 Least Squares   F-statistic:                    0.5000\n",
       "Date:                Mon, 04 Jan 2021   Prob (F-statistic):              0.553\n",
       "Time:                        07:49:53   Log-Likelihood:                -2.4569\n",
       "No. Observations:                   4   AIC:                             8.914\n",
       "Df Residuals:                       2   BIC:                             7.686\n",
       "Df Model:                           1                                         \n",
       "Covariance Type:            nonrobust                                         \n",
       "==============================================================================\n",
       "                 coef    std err          t      P>|t|      [0.025      0.975]\n",
       "------------------------------------------------------------------------------\n",
       "Intercept           0      0.775          0      1.000      -3.333       3.333\n",
       "x              0.2000      0.283      0.707      0.553      -1.017       1.417\n",
       "==============================================================================\n",
       "Omnibus:                          nan   Durbin-Watson:                   3.400\n",
       "Prob(Omnibus):                    nan   Jarque-Bera (JB):                0.308\n",
       "Skew:                           0.000   Prob(JB):                        0.857\n",
       "Kurtosis:                       1.640   Cond. No.                         7.47\n",
       "==============================================================================\n",
       "\n",
       "Warnings:\n",
       "[1] Standard Errors assume that the covariance matrix of the errors is correctly specified.\n",
       "\"\"\""
      ]
     },
     "execution_count": 17,
     "metadata": {},
     "output_type": "execute_result"
    }
   ],
   "source": [
    "import statsmodels.api as sm\n",
    "formula = \"outcome ~ x\"\n",
    "model = sm.OLS.from_formula(formula, data=df)\n",
    "model.fit().summary()\n"
   ]
  },
  {
   "cell_type": "markdown",
   "metadata": {},
   "source": [
    "# How labeld a variable\n"
   ]
  },
  {
   "cell_type": "code",
   "execution_count": 18,
   "metadata": {},
   "outputs": [],
   "source": [
    "df['outcome'] = df.outcome.replace({1:\"SUCCESS\",0:\"Failure\"})\n",
    "# We can make a label."
   ]
  },
  {
   "cell_type": "markdown",
   "metadata": {},
   "source": [
    "## Categorical variable and reference level\n"
   ]
  },
  {
   "cell_type": "markdown",
   "metadata": {},
   "source": [
    "# Logistic regression\n",
    "### Research about np.nan\n",
    "## for what it is crosstab ?\n"
   ]
  },
  {
   "cell_type": "code",
   "execution_count": 20,
   "metadata": {},
   "outputs": [],
   "source": [
    "data = {\"figure\":[\"circle\", \"triangle\",\"circle\", \"triangle\"] , 'color':['blue','green', 'green' ,'green']} \n",
    "data = pd.DataFrame(data)"
   ]
  },
  {
   "cell_type": "code",
   "execution_count": 23,
   "metadata": {},
   "outputs": [
    {
     "data": {
      "text/html": [
       "<div>\n",
       "<style scoped>\n",
       "    .dataframe tbody tr th:only-of-type {\n",
       "        vertical-align: middle;\n",
       "    }\n",
       "\n",
       "    .dataframe tbody tr th {\n",
       "        vertical-align: top;\n",
       "    }\n",
       "\n",
       "    .dataframe thead th {\n",
       "        text-align: right;\n",
       "    }\n",
       "</style>\n",
       "<table border=\"1\" class=\"dataframe\">\n",
       "  <thead>\n",
       "    <tr style=\"text-align: right;\">\n",
       "      <th>color</th>\n",
       "      <th>blue</th>\n",
       "      <th>green</th>\n",
       "      <th>All</th>\n",
       "    </tr>\n",
       "    <tr>\n",
       "      <th>figure</th>\n",
       "      <th></th>\n",
       "      <th></th>\n",
       "      <th></th>\n",
       "    </tr>\n",
       "  </thead>\n",
       "  <tbody>\n",
       "    <tr>\n",
       "      <th>circle</th>\n",
       "      <td>1</td>\n",
       "      <td>1</td>\n",
       "      <td>2</td>\n",
       "    </tr>\n",
       "    <tr>\n",
       "      <th>triangle</th>\n",
       "      <td>0</td>\n",
       "      <td>2</td>\n",
       "      <td>2</td>\n",
       "    </tr>\n",
       "    <tr>\n",
       "      <th>All</th>\n",
       "      <td>1</td>\n",
       "      <td>3</td>\n",
       "      <td>4</td>\n",
       "    </tr>\n",
       "  </tbody>\n",
       "</table>\n",
       "</div>"
      ],
      "text/plain": [
       "color     blue  green  All\n",
       "figure                    \n",
       "circle       1      1    2\n",
       "triangle     0      2    2\n",
       "All          1      3    4"
      ]
     },
     "execution_count": 23,
     "metadata": {},
     "output_type": "execute_result"
    }
   ],
   "source": [
    "#Cross tab it is very useful\n",
    "pd.crosstab(data.figure, data. color , margins=True)\n",
    "\n",
    "\n",
    "## How to make a chi -square test in crosstab."
   ]
  },
  {
   "cell_type": "markdown",
   "metadata": {},
   "source": [
    "# Notes about statistical inference \n",
    "\n",
    "## Unbiased parameters\n",
    "remember that the parameters are poblational and \"estimadores\" or estimators are dependet of data, therefore, we have the following problem, \n",
    "$\\hat{\\Theta}$ it is a unbiased parameter  if $ E(\\hat{\\Theta})= \\Theta$\n",
    "\n",
    "for instance we can probe if the $\\bar{x} =  \\frac{\\sum x_{i}}{n}$  it is unbiased.\n",
    "\n",
    "think in mind the following problem, we establish previously that poisson distribution have a mean equal to $\\Theta$ then we can wait that the previously estimator will be a good estimator of population mean.\n",
    "\n",
    "we can probe why $n-1$ in sampling variance, if we known the properties $E(x_{i}x_{j})$ it is equal to $\\sigma^{2} + \\mu^{2}$  when $ i = j$, and when $ i \\neq j $ then it is equal to  $ \\mu^{2}$ ** probe this**\n",
    "\n",
    "\n"
   ]
  },
  {
   "cell_type": "markdown",
   "metadata": {},
   "source": [
    "# Degree of freedom\n",
    "number of independent values, that could vary in the data. For instance when mean one value it is restricted."
   ]
  },
  {
   "cell_type": "code",
   "execution_count": 1,
   "metadata": {},
   "outputs": [
    {
     "data": {
      "text/plain": [
       "3.2"
      ]
     },
     "execution_count": 1,
     "metadata": {},
     "output_type": "execute_result"
    }
   ],
   "source": [
    "import numpy as np\n",
    "data = [1,2,3,5,7]\n",
    "np.mean(data) \n"
   ]
  },
  {
   "cell_type": "markdown",
   "metadata": {},
   "source": [
    "# Gamma distribution\n",
    "Weibull and Gamma functions are used to analyze lifetime data.\n",
    "\n",
    "it is rely on in gamma function, exponential, Earlang and $\\chi^{2}$ are cases of gamma distribution, \n",
    "\n",
    "\n",
    "\\begin{equation}\n",
    "\\Gamma( \\alpha) = \\int_{0}^{\\infty} x^{\\alpha -1} e^{-x}dx\n",
    "\\end{equation}\n",
    "\n",
    "suppose that you need control the grade of the exponential decay. Then we need a change of variable:\n",
    "$ u = \\beta x $ then when $ x \\to \\infty $  also $ u \\to \\infty$ also when $ x \\to 0 $ $u$ also tend to $0$. Note that in this case $\\frac{du}{dx} = \\beta$\n",
    "\n",
    "\n",
    "\\begin{equation}\n",
    "\\int_{0}^{\\infty} ( \\frac{u}{\\beta} )^{\\alpha -1} e^{-\\frac{u}{\\beta}} \\frac{du}{\\beta} \\\\\n",
    "= \\frac{1}{\\beta^\\alpha} \\int_{0}^{\\infty} u^{\\alpha -1} e^{\\frac{u}{\\beta}} du  \\\\\n",
    "\\Gamma(\\alpha)\\beta^{\\alpha} = \\int_{0}^{\\infty} u^{\\alpha -1 } e^{\\frac{u}{\\beta}} du\n",
    "\\end{equation}\n",
    "\n",
    "from last equation we can see that:\n",
    "\\begin{equation}\n",
    "\\int_{0}^{\\infty} \\frac{x^{\\alpha -1}e^{\\frac{-x}{\\beta}}dx}{\\Gamma(\\alpha)\\beta^{\\alpha}}  = 1\n",
    "\\end{equation}\n",
    "where see that this it is a pdf. then we can said that $\\mathbf{x} \\sim \\Gamma(\\alpha, \\beta)$. \n",
    "\n",
    "## Gamma - Poisson\n",
    "\n",
    "if $\\mathbf{x} \\sim \n",
    "\n",
    "\n",
    "\n",
    "\n",
    "# $\\chi^{2}$ cuadrado\n",
    "\n"
   ]
  },
  {
   "cell_type": "markdown",
   "metadata": {},
   "source": [
    "if for some reason we take a sampling of data and we have $[1,2,5,7]$ then for mean be 3.2 it is needed that the another value be 3, and therefore we have a N-1 degrees of freedom."
   ]
  },
  {
   "cell_type": "markdown",
   "metadata": {},
   "source": [
    "# T- distribution\n",
    "\n",
    "suppose a vector $\\mathbf{x} \\sim $ \n",
    "\n",
    "\n",
    "\n",
    "\n",
    "  "
   ]
  },
  {
   "cell_type": "markdown",
   "metadata": {},
   "source": [
    "# Chi square test: \n",
    "used in two sense for independence of event and goodness of fit test.\n",
    "\n",
    "\n",
    "\n",
    "# Chi - square test contingency table\n",
    "## Independence \n",
    "\n"
   ]
  },
  {
   "cell_type": "markdown",
   "metadata": {},
   "source": [
    "# Gamma distribution\n",
    "this function is very important due it is related with some probability distributions functions.\n",
    "it is a generalization of factorial function to no integer numbers.\n",
    " \n",
    "we can define to gamma function as:\n",
    "\\begin{equation}\n",
    "\\Gamma(x) = \\int_{0}^{\\infty} e^{-t}t^{x-1} dt\n",
    "\\end{equation}\n",
    " \n",
    " \n",
    " \n",
    "\\begin{equation} \n",
    "     \\int_{0}^{\\infty} e^{-t}t^{n}  dt = n!\n",
    "\\end{equation}\n",
    "\n",
    "if n belong to naturals. \n",
    " \n",
    "\n",
    "if we are interested in proof some properties we need only know integrals by parts, and l'hopital rule. \n",
    "\\begin{equation}\n",
    "\\Gamma(x+1) = x \\Gamma(x)\n",
    "\\end{equation}\n",
    "\n",
    "to probe this we need uses the squeeze theorem.\n",
    "\n",
    "## Gamma distribution \n",
    "\n",
    "this it is very important due, exponential distribution, Erlang distribution and chi-square distribution are derived of gamma.\n",
    "\n",
    "\n",
    "\n",
    "## Conjugate prior in bayesian\n",
    "\n"
   ]
  },
  {
   "cell_type": "markdown",
   "metadata": {},
   "source": [
    "# Stirlings approximation \n",
    "\n"
   ]
  },
  {
   "cell_type": "markdown",
   "metadata": {},
   "source": [
    "## Chi -square test \n",
    "\n",
    "developed by person in 1900, used to test if two categorical variables are independet or not.\n",
    "the Null hypothesis is that there is not relationship.\n",
    "\n",
    "Asymptotic test?\n",
    "\n"
   ]
  },
  {
   "cell_type": "markdown",
   "metadata": {},
   "source": [
    "# Variance principle.\n",
    "\n",
    "# likelihood function\n",
    "the idea behind maximun likelihood estimation it is rely on of the maximize the probability of get \"see\" the resutls, a classical example it is whit the combinatorial problem(fisher problem) ( think in this problem and illustrate here).\n",
    "suppose that you have a vector $\\mathbf{x}$ and $   x \\sim exp(\\Theta) $  what is the parameter $\\Theta$ tha maximize the probability of get the vector $\\mathbf{x}$.\n",
    "assuming that $x \\sim i.i.d$\n",
    "Then in probability terms we have:\n",
    "\\begin{equation}\n",
    "P(X=x_{1} \\cap X = x_{2} ....) = P(X=x_{1})P(X=x_{2})...P(X=x_{n}) \\\\\n",
    "= \\prod^{n}_{i=1} P(X=x_{i})\n",
    "\\end{equation}\n",
    "\n",
    "## Note \n",
    "\n",
    "\\begin{equation}\n",
    "L(\\Theta) = (\\Theta | \\mathbf{x} ) \\\\\n",
    "\\max L(\\Theta) \n",
    "\\end{equation}\n",
    "\n",
    "We can think in the following order for exponential distribution:\n",
    "\n",
    "\n",
    "## Normal distribution parameters estimation:\n",
    "$x \\sim N(\\mu, \\sigma) $\n",
    "\\begin{equation}\n",
    "\\prod_{i=1}^{n} \\frac{  e^{  \\frac{ - (x - \\mu)^2}{2 \\sigma^²} }}{  \\sqrt{2 \\pi \\sigma^2}} \\\\\n",
    "\\frac{-n}{2} ln(2 \\pi) - \\frac{n}{2}ln(\\sigma^2) -  \\frac{1}{2 \\sigma^{2}} \\sum (x_{i} - \\mu)^{2} \n",
    "\\end{equation}\n",
    "\n",
    "\n",
    "## Likelihood function for a parameter function\n",
    "\n",
    "\n",
    "\n",
    "## example \n",
    "suppose that $ x \\sim exp(\\Theta) $\n",
    "\\begin{equation}\n",
    "L(\\Theta) = \\Theta^{n} e^{- \\Theta n \\bar{x}} \\\\\n",
    "\\tau(\\Theta) = \\Theta^{2}\n",
    "\\end{equation}\n",
    "\n",
    "\n",
    "# Simulating in Poisson distribution \n",
    "\n",
    "suppose that you have a $\\mathbf{x}$ vector then, we have the following values, $1,0,1,0,0,1$ then\n",
    "in this sample we take in mind the $L()$ to function of the parameter $\\Theta$.\n",
    "\n",
    "#### Description:\n",
    "Think how it is, first we generate a sample with known $\\Theta$ parameter, and after we need to find out what it is $\\Theta$ given the value vector $\\mathbf{x}$ and thus we can check the maximun likelihood estimator principle.\n",
    "\n",
    "\\begin{equation}\n",
    "pmf = \\frac{e^{- \\Theta } \\Theta^{x} }{x!}\n",
    "\\end{equation}\n",
    "\n",
    "thus joint distribution it is :\n",
    "\\begin{equation}\n",
    "  \\frac{1}{\\prod x_{i}!} e^{-n \\Theta} \\Theta^{\\sum x_{i}}\n",
    "\\end{equation}"
   ]
  },
  {
   "cell_type": "markdown",
   "metadata": {},
   "source": [
    "## Note about programming:\n",
    "### Recursion.\n",
    "the main idea behind recursion rely on in that infinity operations could be \"hacerse\" through \n",
    "a finite recursion statement. \n",
    "Python allow us defined recursion function, this means that a function call itself.\n",
    "there are features to consider one of them it is the existence of at least one base case, and that each instances must be trait an smaller complex size of the problem than the previous one. \n"
   ]
  },
  {
   "cell_type": "code",
   "execution_count": 15,
   "metadata": {},
   "outputs": [
    {
     "ename": "TypeError",
     "evalue": "unsupported operand type(s) for *: 'int' and 'NoneType'",
     "output_type": "error",
     "traceback": [
      "\u001b[0;31m---------------------------------------------------------------------------\u001b[0m",
      "\u001b[0;31mTypeError\u001b[0m                                 Traceback (most recent call last)",
      "\u001b[0;32m<ipython-input-15-c4ed365ef138>\u001b[0m in \u001b[0;36m<module>\u001b[0;34m\u001b[0m\n\u001b[1;32m     24\u001b[0m \u001b[0;34m\u001b[0m\u001b[0m\n\u001b[1;32m     25\u001b[0m \u001b[0mprod\u001b[0m\u001b[0;34m(\u001b[0m\u001b[0;36m1\u001b[0m\u001b[0;34m,\u001b[0m\u001b[0;36m2\u001b[0m\u001b[0;34m,\u001b[0m\u001b[0;36m3\u001b[0m\u001b[0;34m,\u001b[0m\u001b[0;36m4\u001b[0m\u001b[0;34m)\u001b[0m\u001b[0;34m\u001b[0m\u001b[0;34m\u001b[0m\u001b[0m\n\u001b[0;32m---> 26\u001b[0;31m \u001b[0mfactorial\u001b[0m\u001b[0;34m(\u001b[0m\u001b[0;36m4\u001b[0m\u001b[0;34m)\u001b[0m\u001b[0;34m\u001b[0m\u001b[0;34m\u001b[0m\u001b[0m\n\u001b[0m",
      "\u001b[0;32m<ipython-input-15-c4ed365ef138>\u001b[0m in \u001b[0;36mfactorial\u001b[0;34m(n)\u001b[0m\n\u001b[1;32m     21\u001b[0m         \u001b[0;32mreturn\u001b[0m \u001b[0;36m1\u001b[0m\u001b[0;34m\u001b[0m\u001b[0;34m\u001b[0m\u001b[0m\n\u001b[1;32m     22\u001b[0m     \u001b[0;32melse\u001b[0m\u001b[0;34m:\u001b[0m\u001b[0;34m\u001b[0m\u001b[0;34m\u001b[0m\u001b[0m\n\u001b[0;32m---> 23\u001b[0;31m         \u001b[0mfactoria\u001b[0m\u001b[0;34m=\u001b[0m \u001b[0mn\u001b[0m\u001b[0;34m*\u001b[0m \u001b[0mfactorial\u001b[0m\u001b[0;34m(\u001b[0m\u001b[0mn\u001b[0m\u001b[0;34m-\u001b[0m\u001b[0;36m1\u001b[0m\u001b[0;34m)\u001b[0m\u001b[0;34m\u001b[0m\u001b[0;34m\u001b[0m\u001b[0m\n\u001b[0m\u001b[1;32m     24\u001b[0m \u001b[0;34m\u001b[0m\u001b[0m\n\u001b[1;32m     25\u001b[0m \u001b[0mprod\u001b[0m\u001b[0;34m(\u001b[0m\u001b[0;36m1\u001b[0m\u001b[0;34m,\u001b[0m\u001b[0;36m2\u001b[0m\u001b[0;34m,\u001b[0m\u001b[0;36m3\u001b[0m\u001b[0;34m,\u001b[0m\u001b[0;36m4\u001b[0m\u001b[0;34m)\u001b[0m\u001b[0;34m\u001b[0m\u001b[0;34m\u001b[0m\u001b[0m\n",
      "\u001b[0;32m<ipython-input-15-c4ed365ef138>\u001b[0m in \u001b[0;36mfactorial\u001b[0;34m(n)\u001b[0m\n\u001b[1;32m     21\u001b[0m         \u001b[0;32mreturn\u001b[0m \u001b[0;36m1\u001b[0m\u001b[0;34m\u001b[0m\u001b[0;34m\u001b[0m\u001b[0m\n\u001b[1;32m     22\u001b[0m     \u001b[0;32melse\u001b[0m\u001b[0;34m:\u001b[0m\u001b[0;34m\u001b[0m\u001b[0;34m\u001b[0m\u001b[0m\n\u001b[0;32m---> 23\u001b[0;31m         \u001b[0mfactoria\u001b[0m\u001b[0;34m=\u001b[0m \u001b[0mn\u001b[0m\u001b[0;34m*\u001b[0m \u001b[0mfactorial\u001b[0m\u001b[0;34m(\u001b[0m\u001b[0mn\u001b[0m\u001b[0;34m-\u001b[0m\u001b[0;36m1\u001b[0m\u001b[0;34m)\u001b[0m\u001b[0;34m\u001b[0m\u001b[0;34m\u001b[0m\u001b[0m\n\u001b[0m\u001b[1;32m     24\u001b[0m \u001b[0;34m\u001b[0m\u001b[0m\n\u001b[1;32m     25\u001b[0m \u001b[0mprod\u001b[0m\u001b[0;34m(\u001b[0m\u001b[0;36m1\u001b[0m\u001b[0;34m,\u001b[0m\u001b[0;36m2\u001b[0m\u001b[0;34m,\u001b[0m\u001b[0;36m3\u001b[0m\u001b[0;34m,\u001b[0m\u001b[0;36m4\u001b[0m\u001b[0;34m)\u001b[0m\u001b[0;34m\u001b[0m\u001b[0;34m\u001b[0m\u001b[0m\n",
      "\u001b[0;31mTypeError\u001b[0m: unsupported operand type(s) for *: 'int' and 'NoneType'"
     ]
    },
    {
     "data": {
      "image/png": "[encoded data removed]",
      "text/plain": [
       "<Figure size 432x288 with 1 Axes>"
      ]
     },
     "metadata": {
      "needs_background": "light"
     },
     "output_type": "display_data"
    }
   ],
   "source": [
    "from scipy.stats import poisson \n",
    "import numpy as np\n",
    "import matplotlib.pyplot as plt\n",
    "from random import sample \n",
    "theta = 4\n",
    "x = np.linspace(poisson.ppf(0.1, theta), poisson.ppf(0.99, theta))\n",
    "pmf = list(poisson.pmf(x, theta))\n",
    "plt.bar(x,pmf)  ## Poissson pmf to theta.\n",
    "# Here we must select a sample to check the consystenci of estimation my MLE\n",
    "sample= sample(pmf,10)\n",
    "\n",
    "## We can define productory withouth number explicity of parameters.\n",
    "def prod(*args):\n",
    "    total =  1\n",
    "    for x in args:\n",
    "        total = total * x\n",
    "    return total\n",
    "\n",
    "def factorial(n):\n",
    "    if n==1:\n",
    "        return 1 \n",
    "    else:\n",
    "        factoria= n* factorial(n-1)\n",
    "    \n",
    "prod(1,2,3,4)\n",
    "factorial(4)"
   ]
  },
  {
   "cell_type": "markdown",
   "metadata": {},
   "source": [
    "```python\n",
    "from scipy.stats import norm\n",
    "from scipy.stats import poisson\n",
    "```\n",
    "for instance for poisson distribution, poisson.pmf(k, mean) \n",
    "* pmf() probility mass function (discrete) \n",
    "* pdf() probability density function ( continous) \n",
    "* cdf() cumulative distribution function\n",
    "* ppf() percent point function or inverse of cdf.\n",
    "\n",
    " note: to graph we can uses np.arange and ppf, remember that ppf give us the value of f(x), given the probability of get this value (or percentiles).\n",
    "\n",
    "here pdf return probability density function.\n",
    "*norm.pdf(x,mean, sd)*  \n",
    "\n",
    "\n",
    "\n"
   ]
  },
  {
   "cell_type": "code",
   "execution_count": 8,
   "metadata": {},
   "outputs": [
    {
     "data": {
      "text/plain": [
       "0.14972746563574488"
      ]
     },
     "execution_count": 8,
     "metadata": {},
     "output_type": "execute_result"
    }
   ],
   "source": [
    "from scipy.stats import norm\n",
    "norm.pdf(1.6,0,1)\n",
    "# to get the probability of see two results we can multiply.\n",
    "norm.pdf(1.4,0,1)"
   ]
  },
  {
   "cell_type": "markdown",
   "metadata": {},
   "source": [
    "## likelihood ratio test\n",
    "\n",
    "## Lagrange Multiplier Test\n",
    "\n",
    "## Wald Test\n",
    "\n",
    "\n",
    "\n",
    "## Neyman - Person LEMA\n",
    "\n",
    "if  $ \\alpha \\in (1,0) $ and $\\Theta_{1}, \\Theta_{2} $ two obtained parameters of unknown $\\Theta$\n",
    "then proposed: \n",
    "\n",
    "$$ H_{0}  =  \\Theta_{1} $$\n",
    "$$ H_{1}  = \\Theta_{2} $$\n",
    "\n",
    "the region of reject more powerful it is \n",
    "\n",
    "\\begin{equation}\n",
    "\\frac{L(x_{1}, ..., x_{n}; \\Theta_{1})}{L(x_{1},..,x_{n}; \\Theta_{2})}\n",
    "\\end{equation}\n",
    "\n",
    "where $L()$ it is the likelihood function.\n",
    "\n",
    "\\begin{proof}\n",
    "\n",
    "\\end{proof}\n",
    "\n",
    "see this course to understand better.\n",
    "http://lya.fciencias.unam.mx/lars/0398/  \n",
    "\n"
   ]
  },
  {
   "cell_type": "markdown",
   "metadata": {},
   "source": [
    "## Hypothesis Testing\n",
    "a random variable $x \\sim Bernouilli(\\Theta) $ we'd like contrast if $\\Theta = \\frac{1}{2}$\n",
    "then in hypothesis testing we need specify that: \n",
    "\\begin{equation}\n",
    "H_{0} = \\frac{1}{2}\\\\\n",
    "H_{1} \\neq \\frac{1}{2}\n",
    "\\end{equation}\n",
    "\n",
    "by law of great numbers the sample mean tend to the population mean when n increase.\n",
    "\n",
    "$\\varphi   = {(x_{1},...,x_{n} : | \\bar{x} - \\frac{1}{2} | > c )}$\n",
    "the region of reject it rely on of $c$.\n",
    "\n",
    "\\begin{equation}\n",
    "\\alpha = P( | \\bar{x} - \\frac{1}{2} | \\geq c) \\\\\n",
    "= 1-P(|\\bar{x} - \\frac{1}{2} | \\leq c) \\\\\n",
    "= 1-P(-c < \\bar{x} - \\frac{1}{2} < c)\n",
    "\\end{equation}\n",
    "\n",
    "\n"
   ]
  },
  {
   "cell_type": "markdown",
   "metadata": {},
   "source": [
    "# Memorie Rejected region\n",
    "it is also a set of values in whose case we can reject the Null Hypothesis.\n",
    "\n",
    "## Errors\n",
    "\n",
    "* Type 1 reject $H_{0}$ given that it is true\n",
    "\n",
    "* Type 2 not reject $H_{0}$ given that it is False\n",
    "\n",
    "\n",
    " >  to the probability of reject the null hypothesis given that this it is true is also named as\n",
    "significance level or $\\alpha$\n",
    "\n",
    ">  the probability of \"cometer\" a error type 2 it is named $\\beta$\n",
    "\n",
    "we fixed $\\alpha$ and set out a rejected region in that minimize $\\beta$. \n",
    "\n",
    "\n"
   ]
  },
  {
   "cell_type": "code",
   "execution_count": 9,
   "metadata": {},
   "outputs": [
    {
     "name": "stdout",
     "output_type": "stream",
     "text": [
      "19.999999999999993 11.488574195604542\n"
     ]
    }
   ],
   "source": [
    "# Lab about maximiun likelihood.\n",
    "import numpy as np\n",
    "from scipy.stats import norm\n",
    "import statistics as st \n",
    "mean , sd  = 20 , 8.3\n",
    "values = np.linspace(norm.ppf(0.01,mean,sd), norm.ppf(0.99,mean,sd))\n",
    "## check that np.std() dont have by default degree of freedom.\n",
    "print(np.mean(values) , np.std(values, ddof= 1))"
   ]
  },
  {
   "cell_type": "markdown",
   "metadata": {},
   "source": [
    "# Information related with table one.\n",
    "## Cheking normality in python.\n",
    "\n",
    "\n",
    "## Shapiro - wilks\n",
    "A test to check normality. \n",
    "Suppose that $\\mathbf{x}$ were retrieved from a normal population.\n",
    "$$ H_{0} = Normality$$\n",
    "$$ H_{1} = No-normal$$\n",
    "\n",
    "with a $p<0.05$ we can claim that the distribution not it is normal distributed.\n",
    "\n",
    "## Least - squares theorem\n",
    "\n",
    "\n",
    "\n",
    "# Note about notation:\n",
    "when $x_{(i)}$ when the subscrpit it is enclosed by paranthesis this means the i-th order, for instance in this sample, $4,5,1,6,0$ then:\n",
    "\\begin{equation}\n",
    "\\sum_{i=1}^{n}  x_{(i)}  = 0,1,4,5,6\n",
    "\\end{equation}\n",
    "therefore:\n",
    "\\begin{equation}\n",
    "x_{(1)}= min (x_{1},...,x_{n})\n",
    "\\end{equation}"
   ]
  },
  {
   "cell_type": "markdown",
   "metadata": {},
   "source": [
    "# Table one in python\n",
    "important notes variables not listed  in the *nonnormal* argument will be summarized with mean and standard deviation.\n"
   ]
  },
  {
   "cell_type": "code",
   "execution_count": 7,
   "metadata": {},
   "outputs": [
    {
     "name": "stderr",
     "output_type": "stream",
     "text": [
      "/usr/local/lib/python3.8/site-packages/ipykernel/ipkernel.py:287: DeprecationWarning: `should_run_async` will not call `transform_cell` automatically in the future. Please pass the result to `transformed_cell` argument and any exception that happen during thetransform in `preprocessing_exc_tuple` in IPython 7.17 and above.\n",
      "  and should_run_async(code)\n"
     ]
    },
    {
     "name": "stdout",
     "output_type": "stream",
     "text": [
      "Index(['Age', 'SysABP', 'Height', 'Weight', 'ICU', 'MechVent', 'LOS', 'death'], dtype='object')\n",
      "                       Grouped by death                                                                     \n",
      "                                Missing       Overall             0             1 P-Value               Test\n",
      "n                                                1000           864           136                           \n",
      "Age, mean (SD)                        0   65.0 (17.2)   64.0 (17.4)   71.7 (14.0)  <0.001  Two Sample T-test\n",
      "SysABP, mean (SD)                   291  114.3 (40.2)  115.4 (38.3)  107.6 (49.4)   0.134  Two Sample T-test\n",
      "Height, mean (SD)                   475  170.1 (22.1)  170.3 (23.2)  168.5 (11.3)   0.304  Two Sample T-test\n",
      "Weight, mean (SD)                   302   82.9 (23.8)   83.0 (23.6)   82.3 (25.4)   0.782  Two Sample T-test\n",
      "ICU, n (%)        CCU                 0    162 (16.2)    137 (15.9)     25 (18.4)  <0.001        Chi-squared\n",
      "                  CSRU                     202 (20.2)    194 (22.5)       8 (5.9)                           \n",
      "                  MICU                     380 (38.0)    318 (36.8)     62 (45.6)                           \n",
      "                  SICU                     256 (25.6)    215 (24.9)     41 (30.1)                           \n",
      "MechVent, n (%)   0                   0    540 (54.0)    468 (54.2)     72 (52.9)   0.862        Chi-squared\n",
      "                  1                        460 (46.0)    396 (45.8)     64 (47.1)                           \n",
      "LOS, mean (SD)                        0   14.2 (14.2)   14.0 (13.5)   15.4 (17.7)   0.386  Two Sample T-test\n",
      "\n",
      "\\begin{tabular}{llllllll}\n",
      "\\hline\n",
      "                   &      & Missing   & Overall      & 0            & 1            & P-Value   & Test              \\\\\n",
      "\\hline\n",
      " n                 &      &           & 1000         & 864          & 136          &           &                   \\\\\n",
      " Age, mean (SD)    &      & 0         & 65.0 (17.2)  & 64.0 (17.4)  & 71.7 (14.0)  & \\ensuremath{<}0.001    & Two Sample T-test \\\\\n",
      " SysABP, mean (SD) &      & 291       & 114.3 (40.2) & 115.4 (38.3) & 107.6 (49.4) & 0.134     & Two Sample T-test \\\\\n",
      " Height, mean (SD) &      & 475       & 170.1 (22.1) & 170.3 (23.2) & 168.5 (11.3) & 0.304     & Two Sample T-test \\\\\n",
      " Weight, mean (SD) &      & 302       & 82.9 (23.8)  & 83.0 (23.6)  & 82.3 (25.4)  & 0.782     & Two Sample T-test \\\\\n",
      " ICU, n (\\%)        & CCU  & 0         & 162 (16.2)   & 137 (15.9)   & 25 (18.4)    & \\ensuremath{<}0.001    & Chi-squared       \\\\\n",
      "                   & CSRU &           & 202 (20.2)   & 194 (22.5)   & 8 (5.9)      &           &                   \\\\\n",
      "                   & MICU &           & 380 (38.0)   & 318 (36.8)   & 62 (45.6)    &           &                   \\\\\n",
      "                   & SICU &           & 256 (25.6)   & 215 (24.9)   & 41 (30.1)    &           &                   \\\\\n",
      " MechVent, n (\\%)   & 0    & 0         & 540 (54.0)   & 468 (54.2)   & 72 (52.9)    & 0.862     & Chi-squared       \\\\\n",
      "                   & 1    &           & 460 (46.0)   & 396 (45.8)   & 64 (47.1)    &           &                   \\\\\n",
      " LOS, mean (SD)    &      & 0         & 14.2 (14.2)  & 14.0 (13.5)  & 15.4 (17.7)  & 0.386     & Two Sample T-test \\\\\n",
      "\\hline\n",
      "\\end{tabular}\n"
     ]
    }
   ],
   "source": [
    "from tableone  import TableOne, load_dataset\n",
    "import pandas as pd \n",
    "df  = load_dataset('pn2012')\n",
    "print(df.columns)\n",
    "mytable = TableOne(df,groupby='death' ,pval=True,  htest_name=True,)\n",
    "print(mytable)\n",
    "# We can uses as parameters the following columns=[], categorical=[], nonnormal\n",
    "print(mytable.tabulate(tablefmt='latex'))\n",
    "# to export resutls we have\n",
    "mytable.to_excel('mytable.xlsx')\n",
    "\n",
    "from scipy import stats\n",
    "t,p = stats.shapiro(df['Age'])\n",
    "\n",
    "\n",
    "## Algorithm to chec(k normality:\n",
    "nonormal=[]\n",
    "for x in df.columns:\n",
    "    if df[x].dtype !=object:\n",
    "        t,p = stats.shapiro(df[x])\n",
    "        id p<0.05:\n",
    "            "
   ]
  },
  {
   "cell_type": "markdown",
   "metadata": {},
   "source": []
  },
  {
   "cell_type": "markdown",
   "metadata": {},
   "source": [
    "# Things to resarch \n",
    "likelihood ratio ordering.\n",
    "\n",
    "\n",
    "# Fisher information Matrix\n"
   ]
  },
  {
   "cell_type": "markdown",
   "metadata": {},
   "source": [
    "# Geometric distribution\n",
    "$P$ it is a constant and it is the probability of success.\n",
    "The number of trials to get a success, it is related with $x-1$ failures and the $x-th$ it is the success. \n",
    "\n",
    "\\begin{equation}\n",
    "\\begin{split}\n",
    "P(X=x) = (1-p)^{x} p\n",
    "\\end{split}\n",
    "\\end{equation}\n",
    "\n",
    "The mean and variance of geometric distribution that are functions of $p$.\n",
    "\\begin{equation}\n",
    "\\mu = \\frac{1}{p}\n",
    "\\end{equation}\n",
    "\n",
    "and the variance:\n",
    "\\begin{equation}\n",
    "\\sigma^{2} = \\frac{1-p}{p^{2}}\n",
    "\\end{equation}\n",
    "\n",
    "## Application \n",
    "suppose that in a population sample, of 100 persons 12 persons have Tbc, and assuming that the trials are independent, the question is what it is the probability of the test the 7-th person it is the first diagnosed.\n",
    "\n",
    "## Memoryless propertie "
   ]
  },
  {
   "cell_type": "code",
   "execution_count": null,
   "metadata": {},
   "outputs": [],
   "source": []
  }
 ],
 "metadata": {
  "hide_input": false,
  "kernelspec": {
   "display_name": "Python 3",
   "language": "python",
   "name": "python3"
  },
  "language_info": {
   "codemirror_mode": {
    "name": "ipython",
    "version": 3
   },
   "file_extension": ".py",
   "mimetype": "text/x-python",
   "name": "python",
   "nbconvert_exporter": "python",
   "pygments_lexer": "ipython3",
   "version": "3.8.10"
  },
  "latex_envs": {
   "LaTeX_envs_menu_present": true,
   "autoclose": false,
   "autocomplete": true,
   "bibliofile": "biblio.bib",
   "cite_by": "apalike",
   "current_citInitial": 1,
   "eqLabelWithNumbers": true,
   "eqNumInitial": 1,
   "hotkeys": {
    "equation": "Ctrl-E",
    "itemize": "Ctrl-I"
   },
   "labels_anchors": false,
   "latex_user_defs": false,
   "report_style_numbering": false,
   "user_envs_cfg": false
  },
  "varInspector": {
   "cols": {
    "lenName": 16,
    "lenType": 16,
    "lenVar": 40
   },
   "kernels_config": {
    "python": {
     "delete_cmd_postfix": "",
     "delete_cmd_prefix": "del ",
     "library": "var_list.py",
     "varRefreshCmd": "print(var_dic_list())"
    },
    "r": {
     "delete_cmd_postfix": ") ",
     "delete_cmd_prefix": "rm(",
     "library": "var_list.r",
     "varRefreshCmd": "cat(var_dic_list()) "
    }
   },
   "types_to_exclude": [
    "module",
    "function",
    "builtin_function_or_method",
    "instance",
    "_Feature"
   ],
   "window_display": false
  }
 },
 "nbformat": 4,
 "nbformat_minor": 4
}
