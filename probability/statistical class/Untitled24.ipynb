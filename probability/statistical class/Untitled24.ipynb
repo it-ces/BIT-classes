{
 "cells": [
  {
   "cell_type": "markdown",
   "metadata": {},
   "source": [
    "# Integration of Python and R\n",
    "Why we need to lenguages, both support important featuares and complementaries, for instance, python is a big general programming language, but otherwise R have more extensible export functions and statistical features."
   ]
  },
  {
   "cell_type": "code",
   "execution_count": 16,
   "metadata": {},
   "outputs": [
    {
     "name": "stdout",
     "output_type": "stream",
     "text": [
      "The rpy2.ipython extension is already loaded. To reload it, use:\n",
      "  %reload_ext rpy2.ipython\n"
     ]
    }
   ],
   "source": [
    "\n",
    "import pandas as pd\n",
    "import rpy2.robjects as robjects\n",
    "%load_ext rpy2.ipython"
   ]
  },
  {
   "cell_type": "code",
   "execution_count": 4,
   "metadata": {},
   "outputs": [
    {
     "name": "stdout",
     "output_type": "stream",
     "text": [
      "        x        y\n",
      "0     1.0      1.0\n",
      "1     2.0      4.0\n",
      "2     3.0      9.0\n",
      "3     4.0     16.0\n",
      "4     5.0     25.0\n",
      "..    ...      ...\n",
      "95   96.0   9216.0\n",
      "96   97.0   9409.0\n",
      "97   98.0   9604.0\n",
      "98   99.0   9801.0\n",
      "99  100.0  10000.0\n",
      "\n",
      "[100 rows x 2 columns]\n"
     ]
    }
   ],
   "source": [
    "## Creating a dataset for uses and plotting in the languagues\n",
    "import numpy as np\n",
    "\n",
    "x = np.linspace(1,100,100)\n",
    "y = x.copy()\n",
    "x = list(x)\n",
    "type(x)\n",
    "df = pd.DataFrame(x, columns=['x'])\n",
    "df['y']  = df['x']**2\n",
    "print(df)"
   ]
  },
  {
   "cell_type": "code",
   "execution_count": 5,
   "metadata": {},
   "outputs": [
    {
     "name": "stdout",
     "output_type": "stream",
     "text": [
      "[1] \"list\"\n",
      "\n"
     ]
    },
    {
     "data": {
      "image/png": "[encoded data removed]"
     },
     "metadata": {},
     "output_type": "display_data"
    }
   ],
   "source": [
    "%%R -i x,y -w 2 -h 3 --units in -r 80\n",
    "#note has pass from x and y \n",
    "print(class(x))\n",
    "install.packages(\"ggplot2\")\n",
    "plot(x,y)"
   ]
  },
  {
   "cell_type": "code",
   "execution_count": 6,
   "metadata": {},
   "outputs": [
    {
     "data": {
      "image/png": "[encoded data removed]"
     },
     "metadata": {},
     "output_type": "display_data"
    }
   ],
   "source": [
    "%%R -i df\n",
    "library(\"ggplot2\")\n",
    "ggplot(df, aes(x=x, y=y)) + geom_line()\n",
    "#Note that we defined the variables in python but we are render the graph in R."
   ]
  },
  {
   "cell_type": "markdown",
   "metadata": {},
   "source": [
    "## automatic translation of pandas objects to R\n",
    "from rpy2.objects() import pandas2ri\n",
    "pandas2ri.activate()\n",
    "% R line magic\n",
    "%%R cell magic\n",
    "-i input variables\n",
    "-o output variables\n",
    "-h height of plot \n",
    "-w width of plot\n"
   ]
  },
  {
   "cell_type": "code",
   "execution_count": 7,
   "metadata": {},
   "outputs": [
    {
     "name": "stdout",
     "output_type": "stream",
     "text": [
      "               _                           \n",
      "platform       x86_64-redhat-linux-gnu     \n",
      "arch           x86_64                      \n",
      "os             linux-gnu                   \n",
      "system         x86_64, linux-gnu           \n",
      "status                                     \n",
      "major          4                           \n",
      "minor          0.2                         \n",
      "year           2020                        \n",
      "month          06                          \n",
      "day            22                          \n",
      "svn rev        78730                       \n",
      "language       R                           \n",
      "version.string R version 4.0.2 (2020-06-22)\n",
      "nickname       Taking Off Again            \n"
     ]
    }
   ],
   "source": [
    "%%R\n",
    "R.version"
   ]
  },
  {
   "cell_type": "markdown",
   "metadata": {},
   "source": [
    "To convert explicitly, the functions are pandas2ri.py2ri() and pandas2ri.ri2py().\n",
    "Once the pandas conversion is activated (pandas2ri.activate()), many conversions of R to pandas objects will be done automatically. For example, to obtain the ‘iris’ dataset as a pandas DataFrame:\n",
    "\n",
    "If the pandas conversion was not activated, the above could also be accomplished by explicitly conv "
   ]
  },
  {
   "cell_type": "code",
   "execution_count": 26,
   "metadata": {},
   "outputs": [
    {
     "name": "stdout",
     "output_type": "stream",
     "text": [
      "[1] \"data.frame\"\n"
     ]
    }
   ],
   "source": [
    "%%R -o df2\n",
    "salario = c(10,30,40)\n",
    "edad = c(29,40,84)\n",
    "df2 =data.frame(salario, edad)\n"
   ]
  },
  {
   "cell_type": "code",
   "execution_count": 29,
   "metadata": {},
   "outputs": [
    {
     "data": {
      "text/plain": [
       "pandas.core.frame.DataFrame"
      ]
     },
     "execution_count": 29,
     "metadata": {},
     "output_type": "execute_result"
    }
   ],
   "source": [
    "type(df2)  # note the automatic converstion to pandas.  and i was declared a pandas to be used as iput\n"
   ]
  },
  {
   "cell_type": "code",
   "execution_count": null,
   "metadata": {},
   "outputs": [],
   "source": []
  }
 ],
 "metadata": {
  "kernelspec": {
   "display_name": "Python 3",
   "language": "python",
   "name": "python3"
  },
  "language_info": {
   "codemirror_mode": {
    "name": "ipython",
    "version": 3
   },
   "file_extension": ".py",
   "mimetype": "text/x-python",
   "name": "python",
   "nbconvert_exporter": "python",
   "pygments_lexer": "ipython3",
   "version": "3.8.6"
  }
 },
 "nbformat": 4,
 "nbformat_minor": 4
}
