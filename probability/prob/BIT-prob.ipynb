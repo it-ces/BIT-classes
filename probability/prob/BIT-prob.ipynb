{
 "cells": [
  {
   "cell_type": "code",
   "execution_count": 1,
   "metadata": {},
   "outputs": [],
   "source": [
    "import matplotlib.pyplot as plt"
   ]
  },
  {
   "cell_type": "markdown",
   "metadata": {},
   "source": [
    "# Taller\n"
   ]
  },
  {
   "cell_type": "markdown",
   "metadata": {},
   "source": [
    "# 1 Pregunta\n",
    "# Distribución de probabilidad acumulada\n",
    "\\begin{equation}\n",
    "FDA(x) = P(X<x)  = \\sum_{x<t}f(x)\n",
    "\\end{equation}\n",
    "por lo tanto:\n",
    "\\begin{equation}\n",
    "P(x \\leq 95)= 0.2, \\\\\n",
    "P(x\\leq 100)=0.9,\\\\\n",
    "P(x \\leq 110)=1.\n",
    "\\end{equation}"
   ]
  },
  {
   "cell_type": "code",
   "execution_count": 2,
   "metadata": {},
   "outputs": [
    {
     "data": {
      "text/plain": [
       "[<matplotlib.lines.Line2D at 0x7f270782bcd0>]"
      ]
     },
     "execution_count": 2,
     "metadata": {},
     "output_type": "execute_result"
    },
    {
     "data": {
      "image/png": "[encoded data removed]",
      "text/plain": [
       "<Figure size 432x288 with 1 Axes>"
      ]
     },
     "metadata": {
      "needs_background": "light"
     },
     "output_type": "display_data"
    }
   ],
   "source": [
    "x = [95, 100, 110]\n",
    "y = [0.2, 0.9, 1]\n",
    "plt.plot(x,y)"
   ]
  },
  {
   "cell_type": "markdown",
   "metadata": {},
   "source": [
    "# 2 Pregunta\n",
    "a ) Una variable aleatoria es una función que relaciona los resultados de un experimento aleatorio con un número\n",
    "real por lo tanto, el despacho **es una variable aleatoria**\n",
    "b) La FDA se puede describir de la siguiente forma:\n",
    "\\begin{equation}\n",
    "P(X\\leq 1) = 0.55 \\\\\n",
    "P(X \\leq 2) = 0.75 \\\\\n",
    "P(X \\leq 3) = 0.85 \\\\\n",
    "P(X \\leq 4) = 0.9 \\\\\n",
    "P(X \\leq 5 )  = 0.95 \\\\\n",
    "P(X \\leq 6) = 1\n",
    "\\end{equation}\n",
    "\n",
    "## Valor esperado\n",
    "\\begin{equation}\n",
    "E(x) = \\sum_{X} x_{i}f(x_{i})\n",
    "\\end{equation}\n"
   ]
  },
  {
   "cell_type": "code",
   "execution_count": 3,
   "metadata": {},
   "outputs": [
    {
     "name": "stdout",
     "output_type": "stream",
     "text": [
      "2.0\n"
     ]
    }
   ],
   "source": [
    "# VALOR ESPERADO\n",
    "def expected(x,fx):\n",
    "    acum = 0 \n",
    "    for x_val,fx_val in zip(x,fx):\n",
    "        acum = acum +  x_val * fx_val \n",
    "    return acum\n",
    "print(expected([1,2,3,4,5,6], [0.55, 0.2, 0.1, 0.05, 0.05 , 0.05]))"
   ]
  },
  {
   "cell_type": "markdown",
   "metadata": {},
   "source": [
    "El valor esperado es de (2) días lo que significa que se espera que en \"promedio\" se hagan los despachos\n",
    "en esa cantidad de días."
   ]
  },
  {
   "cell_type": "markdown",
   "metadata": {},
   "source": [
    "# 3 pregunta \n",
    "a) $ P(X \\geq 4)  = 1 - \\sum_{i=0}^{3}P(X = x_{i})$\n",
    "\n"
   ]
  },
  {
   "cell_type": "code",
   "execution_count": 4,
   "metadata": {},
   "outputs": [
    {
     "data": {
      "text/plain": [
       "0.0"
      ]
     },
     "execution_count": 4,
     "metadata": {},
     "output_type": "execute_result"
    }
   ],
   "source": [
    "1 - ( 0.65 + 0.25+ 0.05 + 0.05) "
   ]
  },
  {
   "cell_type": "markdown",
   "metadata": {},
   "source": [
    "la probabilidad es zero."
   ]
  },
  {
   "cell_type": "markdown",
   "metadata": {},
   "source": [
    "# valor esperado\n",
    "b)"
   ]
  },
  {
   "cell_type": "code",
   "execution_count": 5,
   "metadata": {},
   "outputs": [
    {
     "data": {
      "text/plain": [
       "0.5"
      ]
     },
     "execution_count": 5,
     "metadata": {},
     "output_type": "execute_result"
    }
   ],
   "source": [
    "expected([0,1,2,3], [0.65, 0.25, 0.05, 0.05])"
   ]
  },
  {
   "cell_type": "markdown",
   "metadata": {},
   "source": [
    "se espera 0.5 elementos defectusos cuando la producción tiende a ser infinito."
   ]
  },
  {
   "cell_type": "markdown",
   "metadata": {},
   "source": [
    "c)  el número de elementos defectuosos es una variable aleatoria y podría ser modelado con una\n",
    "distribución de probabilidad, debido a que es un proceso no deterministico."
   ]
  },
  {
   "cell_type": "markdown",
   "metadata": {},
   "source": [
    "d) es una función de distribución de probabilidad debido a que \n",
    "cumple las siguientes propiedades.\n",
    "\\begin{equation}\n",
    "0<f(x)<1 \\forall, x\n",
    "\\end{equation}\n",
    "\n",
    "\\begin{equation}\n",
    "\\sum f(x_{i}) = 1\n",
    "\\end{equation}\n"
   ]
  },
  {
   "cell_type": "code",
   "execution_count": 6,
   "metadata": {},
   "outputs": [
    {
     "data": {
      "text/plain": [
       "1.0"
      ]
     },
     "execution_count": 6,
     "metadata": {},
     "output_type": "execute_result"
    }
   ],
   "source": [
    "0.55 + 0.2 + 0.1 + 0.05 + 0.05 + 0.05"
   ]
  },
  {
   "cell_type": "code",
   "execution_count": 7,
   "metadata": {},
   "outputs": [],
   "source": [
    "def variance(x, fx):\n",
    "    mean2 = (expected(x, fx))**2\n",
    "    x = [x**2 for x in x]\n",
    "    expected2 = expected(x,fx)\n",
    "    return expected2 - mean2"
   ]
  },
  {
   "cell_type": "code",
   "execution_count": 8,
   "metadata": {},
   "outputs": [
    {
     "data": {
      "text/plain": [
       "0.65"
      ]
     },
     "execution_count": 8,
     "metadata": {},
     "output_type": "execute_result"
    }
   ],
   "source": [
    "variance([0,1,2,3], [0.65, 0.25,0.05, 0.05])"
   ]
  },
  {
   "cell_type": "markdown",
   "metadata": {},
   "source": [
    "e)  valor esperado y varianza: el valor esperado es 0.5 y la varianza 0.65."
   ]
  },
  {
   "cell_type": "markdown",
   "metadata": {},
   "source": [
    "# 4 pregunta\n",
    "```python\n",
    "x  = [20000000, 12000000]\n",
    "y = [0.6, 0.4]\n",
    "```\n",
    "\\begin{equation}\n",
    "P(lluvia) * 12.000.000  = 4.800.000\\\\\n",
    "P(No-lluvia )  * 20.000.000 = 12.000.000\n",
    "\\end{equation}"
   ]
  },
  {
   "cell_type": "code",
   "execution_count": 9,
   "metadata": {},
   "outputs": [
    {
     "name": "stdout",
     "output_type": "stream",
     "text": [
      "16800000.0\n",
      "15360000000000.0\n"
     ]
    }
   ],
   "source": [
    "print(expected([20000000, 12000000], [0.6, 0.4]))  # valor esperado\n",
    "print(variance([20000000, 12000000], [0.6,0.4]))   # varianza"
   ]
  },
  {
   "cell_type": "markdown",
   "metadata": {},
   "source": [
    "El promedio de ganancias en experimentos repetidos en promedio sería igual\n",
    "a 16800000, no obstante la variabilidad de este resultado es muy grande, esto se debe a que practicamente a que la probabilidad de exito no difere mucho de fracaso.\n"
   ]
  },
  {
   "cell_type": "markdown",
   "metadata": {},
   "source": [
    "# 5) pregunta\n",
    "# Distribución binomial\n",
    "la distribución binomial descrita por \n",
    "\\begin{equation}\n",
    "nCk P(e)^{k}P(1-e)^{n-k}\n",
    "\\end{equation}\n",
    "se utiliza para hallar la probabilidad de $k$ exitos en $n$ ensayos bernoulli, lo que implica que \n",
    "la probabilidad de exito se mantiene constante en cada uno de los ensayos.\n",
    "### Ejemplos:\n",
    "* Por ejemplo, podríamos estar interesados en determinar en observar 4 caras en el lanzamiento de una moneda 10 veces.\n",
    "* el número de k-exitos de obtener una cara determinada en un dado en n lanzamientos"
   ]
  },
  {
   "cell_type": "code",
   "execution_count": 10,
   "metadata": {},
   "outputs": [],
   "source": [
    "from scipy.stats import binom\n",
    "import matplotlib.pyplot as plt"
   ]
  },
  {
   "cell_type": "code",
   "execution_count": 11,
   "metadata": {},
   "outputs": [
    {
     "data": {
      "text/plain": [
       "<matplotlib.collections.LineCollection at 0x7f27058d99a0>"
      ]
     },
     "execution_count": 11,
     "metadata": {},
     "output_type": "execute_result"
    },
    {
     "data": {
      "image/png": "[encoded data removed]",
      "text/plain": [
       "<Figure size 432x288 with 1 Axes>"
      ]
     },
     "metadata": {
      "needs_background": "light"
     },
     "output_type": "display_data"
    }
   ],
   "source": [
    "x = [x for x in range(10)]\n",
    "y = [binom.pmf(x,10,0.5) for x in x]\n",
    "fig, ax = plt.subplots(1, 1)\n",
    "ax.vlines(x,0,y)"
   ]
  },
  {
   "cell_type": "markdown",
   "metadata": {},
   "source": [
    "# Distribución de poisson.\n",
    "con una función de distribución:\n",
    "\\begin{equation}\n",
    "\\frac{e^{-\\lambda} \\lambda ^{k}}{k!}\n",
    "\\end{equation}\n",
    "sirve para modelar la ocurrencia de ventos en un periodo de tiempo o lapso de espacio:\n",
    "* por ejemplo el número de móleculas en una unidad de tiempo.\n",
    "* el número de llamadas recibidas en un lapso de tiempo"
   ]
  },
  {
   "cell_type": "code",
   "execution_count": 12,
   "metadata": {},
   "outputs": [
    {
     "data": {
      "text/plain": [
       "<matplotlib.collections.LineCollection at 0x7f27058b70d0>"
      ]
     },
     "execution_count": 12,
     "metadata": {},
     "output_type": "execute_result"
    },
    {
     "data": {
      "image/png": "[encoded data removed]",
      "text/plain": [
       "<Figure size 432x288 with 1 Axes>"
      ]
     },
     "metadata": {
      "needs_background": "light"
     },
     "output_type": "display_data"
    }
   ],
   "source": [
    "from scipy.stats import poisson\n",
    "rate = 1.4\n",
    "x = [x for x in range(10)]\n",
    "y = [poisson.pmf(x,rate) for x in x]\n",
    "plt.vlines(x,0,y)"
   ]
  },
  {
   "cell_type": "markdown",
   "metadata": {},
   "source": [
    "# 6 Pregunta\n",
    "$P(E) = 0.10$ y el número de  ensayos(n) = 20 y k =1 una unidad"
   ]
  },
  {
   "cell_type": "code",
   "execution_count": 13,
   "metadata": {},
   "outputs": [
    {
     "data": {
      "text/plain": [
       "0.27017034353459823"
      ]
     },
     "execution_count": 13,
     "metadata": {},
     "output_type": "execute_result"
    }
   ],
   "source": [
    "from scipy.stats import binom\n",
    "binom.pmf(1,20,0.10)  "
   ]
  },
  {
   "cell_type": "markdown",
   "metadata": {},
   "source": [
    " la probabilidad de observar un objeto defectuoso en 20 ensayos es del 27 porciento.\n"
   ]
  },
  {
   "cell_type": "markdown",
   "metadata": {},
   "source": [
    "a ) la probabilidad de observar 3 o menos defectuosas es"
   ]
  },
  {
   "cell_type": "code",
   "execution_count": 14,
   "metadata": {},
   "outputs": [
    {
     "data": {
      "text/plain": [
       "0.867046676565665"
      ]
     },
     "execution_count": 14,
     "metadata": {},
     "output_type": "execute_result"
    }
   ],
   "source": [
    "binom.cdf(3,20,0.10)"
   ]
  },
  {
   "cell_type": "markdown",
   "metadata": {},
   "source": [
    "del 86% aproximadamente."
   ]
  },
  {
   "cell_type": "markdown",
   "metadata": {},
   "source": [
    "b) la probabilidad de observar al menos 4 articulos defectuosos es aproximadamente de $1-0.86$ que es el 14%."
   ]
  },
  {
   "cell_type": "markdown",
   "metadata": {},
   "source": [
    "# 7 Pregunta\n",
    "$$ \\lambda = 2$$\n",
    "lo que implica una tasa de fallos de 2 veces por semana, así que:\n",
    "\\begin{equation}\n",
    "P(X = 3 ) = \\frac{e^{-2} 2^{3}}{3!}\n",
    "\\end{equation}"
   ]
  },
  {
   "cell_type": "code",
   "execution_count": 15,
   "metadata": {},
   "outputs": [
    {
     "data": {
      "text/plain": [
       "0.18044704431548356"
      ]
     },
     "execution_count": 15,
     "metadata": {},
     "output_type": "execute_result"
    }
   ],
   "source": [
    "from scipy.stats import poisson\n",
    "poisson.pmf(3, 2)"
   ]
  },
  {
   "cell_type": "markdown",
   "metadata": {},
   "source": [
    "a ) es decir la probabilidad de obtener tres fallas en una semana es del 18%."
   ]
  },
  {
   "cell_type": "code",
   "execution_count": 16,
   "metadata": {},
   "outputs": [
    {
     "data": {
      "text/plain": [
       "0.6766764161830634"
      ]
     },
     "execution_count": 16,
     "metadata": {},
     "output_type": "execute_result"
    }
   ],
   "source": [
    "poisson.cdf(2,2)"
   ]
  },
  {
   "cell_type": "markdown",
   "metadata": {},
   "source": [
    "b) la probabilidad de que falle dos o menos veces por semana es de aproximadamente 67%."
   ]
  },
  {
   "cell_type": "markdown",
   "metadata": {},
   "source": [
    "c) la probabilidad que falle 6 veces durante un mes es $\\lambda = 8$"
   ]
  },
  {
   "cell_type": "code",
   "execution_count": 17,
   "metadata": {},
   "outputs": [
    {
     "data": {
      "text/plain": [
       "0.12213821545677205"
      ]
     },
     "execution_count": 17,
     "metadata": {},
     "output_type": "execute_result"
    }
   ],
   "source": [
    "poisson.pmf(6,8)"
   ]
  },
  {
   "cell_type": "markdown",
   "metadata": {},
   "source": [
    "lo que implica que  la probabilida de que falle 6 veces en un mes es del 12%"
   ]
  },
  {
   "cell_type": "markdown",
   "metadata": {},
   "source": [
    "# 8 pregunta\n",
    "a) debido a que es un evento que ocurre en el tiempo podríamo usar la distribución de poisson.\n",
    "\n",
    "b) $\\lambda = 4$ por día $P(X \\geq 3)  = 1 - P(x=0)+P(x=1)+P(x=2)$"
   ]
  },
  {
   "cell_type": "code",
   "execution_count": 18,
   "metadata": {},
   "outputs": [
    {
     "data": {
      "text/plain": [
       "0.7618966944464556"
      ]
     },
     "execution_count": 18,
     "metadata": {},
     "output_type": "execute_result"
    }
   ],
   "source": [
    "1 - poisson.cdf(2,4)"
   ]
  },
  {
   "cell_type": "markdown",
   "metadata": {},
   "source": [
    "la probabilidad de que llegue 3 usuarios o más es del 76%"
   ]
  }
 ],
 "metadata": {
  "hide_input": false,
  "kernelspec": {
   "display_name": "Python 3",
   "language": "python",
   "name": "python3"
  },
  "language_info": {
   "codemirror_mode": {
    "name": "ipython",
    "version": 3
   },
   "file_extension": ".py",
   "mimetype": "text/x-python",
   "name": "python",
   "nbconvert_exporter": "python",
   "pygments_lexer": "ipython3",
   "version": "3.8.10"
  },
  "latex_envs": {
   "LaTeX_envs_menu_present": true,
   "autoclose": false,
   "autocomplete": true,
   "bibliofile": "biblio.bib",
   "cite_by": "apalike",
   "current_citInitial": 1,
   "eqLabelWithNumbers": true,
   "eqNumInitial": 1,
   "hotkeys": {
    "equation": "Ctrl-E",
    "itemize": "Ctrl-I"
   },
   "labels_anchors": false,
   "latex_user_defs": false,
   "report_style_numbering": false,
   "user_envs_cfg": false
  },
  "varInspector": {
   "cols": {
    "lenName": 16,
    "lenType": 16,
    "lenVar": 40
   },
   "kernels_config": {
    "python": {
     "delete_cmd_postfix": "",
     "delete_cmd_prefix": "del ",
     "library": "var_list.py",
     "varRefreshCmd": "print(var_dic_list())"
    },
    "r": {
     "delete_cmd_postfix": ") ",
     "delete_cmd_prefix": "rm(",
     "library": "var_list.r",
     "varRefreshCmd": "cat(var_dic_list()) "
    }
   },
   "types_to_exclude": [
    "module",
    "function",
    "builtin_function_or_method",
    "instance",
    "_Feature"
   ],
   "window_display": false
  }
 },
 "nbformat": 4,
 "nbformat_minor": 4
}
