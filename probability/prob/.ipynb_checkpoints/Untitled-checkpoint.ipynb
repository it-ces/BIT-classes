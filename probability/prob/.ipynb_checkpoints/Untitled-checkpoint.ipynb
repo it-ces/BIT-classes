{
 "cells": [
  {
   "cell_type": "code",
   "execution_count": 5,
   "metadata": {},
   "outputs": [],
   "source": [
    "import matplotlib.pyplot as plt"
   ]
  },
  {
   "cell_type": "markdown",
   "metadata": {},
   "source": [
    "# Taller\n"
   ]
  },
  {
   "cell_type": "markdown",
   "metadata": {},
   "source": [
    "# 1 Pregunta\n",
    "# Distribución de probabilidad acumulada\n",
    "\\begin{equation}\n",
    "FDA(x) = P(X<x)  = \\sum_{x<t}f(x)\n",
    "\\end{equation}\n",
    "por lo tanto:\n",
    "\\begin{equation}\n",
    "P(x \\leq 95)= 0.2, \\\\\n",
    "P(x\\leq 100)=0.9,\\\\\n",
    "P(x \\leq 110)=1.\n",
    "\\end{equation}"
   ]
  },
  {
   "cell_type": "code",
   "execution_count": 6,
   "metadata": {},
   "outputs": [
    {
     "data": {
      "text/plain": [
       "[<matplotlib.lines.Line2D at 0x7f25170ebe50>]"
      ]
     },
     "execution_count": 6,
     "metadata": {},
     "output_type": "execute_result"
    },
    {
     "data": {
      "image/png": "[encoded data removed]",
      "text/plain": [
       "<Figure size 432x288 with 1 Axes>"
      ]
     },
     "metadata": {
      "needs_background": "light"
     },
     "output_type": "display_data"
    }
   ],
   "source": [
    "x = [95, 100, 110]\n",
    "y = [0.2, 0.9, 1]\n",
    "plt.plot(x,y)"
   ]
  },
  {
   "cell_type": "markdown",
   "metadata": {},
   "source": [
    "# 2 Pregunta\n",
    "a ) Una variable aleatoria es una función que relaciona los resultados de un experimento aleatorio con un número\n",
    "real por lo tanto, el despacho **es una variable aleatoria**\n",
    "b) La FDA se puede describir de la siguiente forma:\n",
    "\\begin{equation}\n",
    "P(X\\leq 1) = 0.55 \\\\\n",
    "P(X \\leq 2) = 0.75 \\\\\n",
    "P(X \\leq 3) = 0.85 \\\\\n",
    "P(X \\leq 4) = 0.9 \\\\\n",
    "P(X \\leq 5 )  = 0.95 \\\\\n",
    "P(X \\leq 6) = 1\n",
    "\\end{equation}\n",
    "\n",
    "## Valor esperado\n",
    "\\begin{equation}\n",
    "E(x) = \\sum_{X} x_{i}f(x_{i})\n",
    "\\end{equation}\n"
   ]
  },
  {
   "cell_type": "code",
   "execution_count": 19,
   "metadata": {},
   "outputs": [
    {
     "name": "stdout",
     "output_type": "stream",
     "text": [
      "2.0\n"
     ]
    }
   ],
   "source": [
    "# VALOR ESPERADO\n",
    "def expected(x,fx):\n",
    "    acum = 0 \n",
    "    for x_val,fx_val in zip(x,fx):\n",
    "        acum = acum +  x_val * fx_val \n",
    "    return acum\n",
    "print(expected([1,2,3,4,5,6], [0.55, 0.2, 0.1, 0.05, 0.05 , 0.05]))"
   ]
  },
  {
   "cell_type": "markdown",
   "metadata": {},
   "source": [
    "El valor esperado es de (2) días lo que significa que se espera que en \"promedio\" se hagan los despachos\n",
    "en esa cantidad de días."
   ]
  },
  {
   "cell_type": "code",
   "execution_count": null,
   "metadata": {},
   "outputs": [],
   "source": []
  },
  {
   "cell_type": "code",
   "execution_count": 15,
   "metadata": {},
   "outputs": [
    {
     "data": {
      "text/plain": [
       "2.0"
      ]
     },
     "execution_count": 15,
     "metadata": {},
     "output_type": "execute_result"
    }
   ],
   "source": [
    "0.55 + 0.2 + 0.1 + 0.05 + 0.05 + 0.05"
   ]
  }
 ],
 "metadata": {
  "hide_input": false,
  "kernelspec": {
   "display_name": "Python 3",
   "language": "python",
   "name": "python3"
  },
  "language_info": {
   "codemirror_mode": {
    "name": "ipython",
    "version": 3
   },
   "file_extension": ".py",
   "mimetype": "text/x-python",
   "name": "python",
   "nbconvert_exporter": "python",
   "pygments_lexer": "ipython3",
   "version": "3.8.10"
  },
  "latex_envs": {
   "LaTeX_envs_menu_present": true,
   "autoclose": false,
   "autocomplete": true,
   "bibliofile": "biblio.bib",
   "cite_by": "apalike",
   "current_citInitial": 1,
   "eqLabelWithNumbers": true,
   "eqNumInitial": 1,
   "hotkeys": {
    "equation": "Ctrl-E",
    "itemize": "Ctrl-I"
   },
   "labels_anchors": false,
   "latex_user_defs": false,
   "report_style_numbering": false,
   "user_envs_cfg": false
  },
  "varInspector": {
   "cols": {
    "lenName": 16,
    "lenType": 16,
    "lenVar": 40
   },
   "kernels_config": {
    "python": {
     "delete_cmd_postfix": "",
     "delete_cmd_prefix": "del ",
     "library": "var_list.py",
     "varRefreshCmd": "print(var_dic_list())"
    },
    "r": {
     "delete_cmd_postfix": ") ",
     "delete_cmd_prefix": "rm(",
     "library": "var_list.r",
     "varRefreshCmd": "cat(var_dic_list()) "
    }
   },
   "types_to_exclude": [
    "module",
    "function",
    "builtin_function_or_method",
    "instance",
    "_Feature"
   ],
   "window_display": false
  }
 },
 "nbformat": 4,
 "nbformat_minor": 4
}
