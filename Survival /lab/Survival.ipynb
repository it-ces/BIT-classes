{
 "cells": [
  {
   "cell_type": "markdown",
   "metadata": {},
   "source": [
    "\n",
    "# Integration Python and R for survival Analysis.\n",
    "\n",
    "# Research about mantel-hanzelt test\n",
    "# score log rank test"
   ]
  },
  {
   "cell_type": "code",
   "execution_count": 41,
   "metadata": {},
   "outputs": [],
   "source": [
    "import rpy2.robjects as robjects\n",
    "%load_ext rpy2.ipython\n",
    "# %R -i sdf ; str(sdf)"
   ]
  },
  {
   "cell_type": "markdown",
   "metadata": {},
   "source": [
    "# Kaplan Meier and long rank test\n"
   ]
  },
  {
   "cell_type": "code",
   "execution_count": 57,
   "metadata": {},
   "outputs": [
    {
     "name": "stdout",
     "output_type": "stream",
     "text": [
      "Call: survfit(formula = Surv(fu_time, death) ~ 1)\n",
      "\n",
      "      n  events  median 0.95LCL 0.95UCL \n",
      "   1000     492     749     687     793 \n"
     ]
    }
   ],
   "source": [
    "%%R\n",
    "# install.packages(\"survivalROC\")\n",
    "# install.packages(\"survival\")\n",
    "# install.packages(\"ggplot\")\n",
    "library(survival)\n",
    "library(ggplot2)\n",
    "data = read.csv(file='data.csv')\n",
    "gender = as.factor(data[,\"gender\"])\n",
    "fu_time = data[,\"fu_time\"] # continuous variable (numeric) \n",
    "death = data[,\"death\"] # binary variable (numeri\n",
    "cox =coxph(Surv(fu_time, death) ~ age + gender + copd + prior_dnas + ethnicgroup, data=data)\n",
    "kpm =  survfit(Surv(fu_time, death)~1)\n",
    "kpm\n",
    "# print(summary(kpm, times = c(1:7,30,60,90*(1:10))) )"
   ]
  },
  {
   "cell_type": "code",
   "execution_count": 3,
   "metadata": {},
   "outputs": [
    {
     "name": "stdout",
     "output_type": "stream",
     "text": [
      "Call:\n",
      "survdiff(formula = Surv(fu_time, death) ~ gender, rho = 0)\n",
      "\n",
      "           N Observed Expected (O-E)^2/E (O-E)^2/V\n",
      "gender=1 548      268      271    0.0365     0.082\n",
      "gender=2 452      224      221    0.0448     0.082\n",
      "\n",
      " Chisq= 0.1  on 1 degrees of freedom, p= 0.8 \n"
     ]
    },
    {
     "data": {
      "image/png": "[encoded data removed]"
     },
     "metadata": {},
     "output_type": "display_data"
    }
   ],
   "source": [
    "%%R\n",
    "kpmg = survfit(Surv(fu_time, death) ~ gender) \n",
    "plot(kpmg)\n",
    "# long rank test\n",
    "survdiff(Surv(fu_time, death) ~ gender, rho=0) "
   ]
  },
  {
   "cell_type": "code",
   "execution_count": 4,
   "metadata": {},
   "outputs": [],
   "source": [
    "# age_65plus <- ifelse(g[,\"age\"]>=65,1,0)"
   ]
  },
  {
   "cell_type": "code",
   "execution_count": 5,
   "metadata": {},
   "outputs": [
    {
     "name": "stdout",
     "output_type": "stream",
     "text": [
      "NULL\n"
     ]
    }
   ],
   "source": [
    "%%R\n",
    "# install.packages(\"survminer\")  # package to plot in survival"
   ]
  },
  {
   "cell_type": "markdown",
   "metadata": {},
   "source": [
    "https://lifelines.readthedocs.io/en/latest/Survival%20Regression.html here we can make the exploration to see in python.\n",
    "https://stats.stackexchange.com/questions/288393/calculating-survival-probability-per-person-at-time-t-from-cox-ph\n"
   ]
  },
  {
   "cell_type": "markdown",
   "metadata": {},
   "source": [
    "# Interpret the results:\n",
    "Rember that you interpret $e^{\\beta}$ for contionous variables  as:\n",
    "if $\\lambda$ >1 then a greater risk, for instance 1.5, this means in all points that a increase of one unity of the variable in all points increase the risk in 50% percent.\n",
    "if $\\lambda<1$ then  you can say that $1-\\lambda$ is the risk.\n",
    "\n",
    "Remember that we assumme a linear relation among predictors and hazard"
   ]
  },
  {
   "cell_type": "code",
   "execution_count": 6,
   "metadata": {},
   "outputs": [
    {
     "name": "stdout",
     "output_type": "stream",
     "text": [
      "  id death los age gender cancer cabg crt defib dementia diabetes hypertension\n",
      "1  1     0   2  90      2      0    0   0     0        0        0            0\n",
      "2  2     0  10  74      1      0    0   0     0        0        0            1\n",
      "3  3     0   3  83      2      0    0   0     0        0        0            1\n",
      "4  4     0   1  79      1      0    0   0     0        0        1            1\n",
      "5  5     0  17  94      2      0    0   0     0        0        1            1\n",
      "6  6     0  47  89      1      0    0   0     0        0        0            0\n",
      "  ihd mental_health arrhythmias copd obesity pvd renal_disease valvular_disease\n",
      "1   0             0           1    0       0   0             0                1\n",
      "2   1             0           0    0       0   0             1                1\n",
      "3   0             0           1    0       0   0             0                0\n",
      "4   1             0           0    1       0   0             0                0\n",
      "5   0             0           0    0       0   0             0                0\n",
      "6   0             0           0    0       0   1             0                1\n",
      "  metastatic_cancer pacemaker pneumonia prior_appts_attended prior_dnas pci\n",
      "1                 0         0         0                    4          0   0\n",
      "2                 0         0         1                    9          1   0\n",
      "3                 0         0         0                    1          0   0\n",
      "4                 0         1         0                    9          2   1\n",
      "5                 0         0         0                    3          0   0\n",
      "6                 0         0         1                    3          0   0\n",
      "  stroke senile quintile ethnicgroup fu_time\n",
      "1      0      0        2          NA     416\n",
      "2      0      0        4           1     648\n",
      "3      0      0        3           1     466\n",
      "4      1      0        5           1     441\n",
      "5      0      0        2           1     371\n",
      "6      0      0        3          NA      47\n"
     ]
    }
   ],
   "source": [
    "%%R\n",
    "head(data)"
   ]
  },
  {
   "cell_type": "code",
   "execution_count": 7,
   "metadata": {},
   "outputs": [
    {
     "name": "stdout",
     "output_type": "stream",
     "text": [
      "       id             death            los             age        \n",
      " Min.   :   1.0   Min.   :0.000   Min.   : 0.00   Min.   : 29.00  \n",
      " 1st Qu.: 250.8   1st Qu.:0.000   1st Qu.: 3.00   1st Qu.: 73.00  \n",
      " Median : 500.5   Median :0.000   Median : 7.00   Median : 80.00  \n",
      " Mean   : 500.5   Mean   :0.492   Mean   :10.77   Mean   : 78.73  \n",
      " 3rd Qu.: 750.2   3rd Qu.:1.000   3rd Qu.:13.00   3rd Qu.: 87.00  \n",
      " Max.   :1000.0   Max.   :1.000   Max.   :89.00   Max.   :102.00  \n",
      "                                                                  \n",
      "     gender          cancer           cabg            crt       \n",
      " Min.   :1.000   Min.   :0.000   Min.   :0.000   Min.   :0.000  \n",
      " 1st Qu.:1.000   1st Qu.:0.000   1st Qu.:0.000   1st Qu.:0.000  \n",
      " Median :1.000   Median :0.000   Median :0.000   Median :0.000  \n",
      " Mean   :1.452   Mean   :0.051   Mean   :0.014   Mean   :0.003  \n",
      " 3rd Qu.:2.000   3rd Qu.:0.000   3rd Qu.:0.000   3rd Qu.:0.000  \n",
      " Max.   :2.000   Max.   :1.000   Max.   :1.000   Max.   :1.000  \n",
      "                                                                \n",
      "     defib          dementia        diabetes      hypertension  \n",
      " Min.   :0.000   Min.   :0.000   Min.   :0.000   Min.   :0.000  \n",
      " 1st Qu.:0.000   1st Qu.:0.000   1st Qu.:0.000   1st Qu.:0.000  \n",
      " Median :0.000   Median :0.000   Median :0.000   Median :1.000  \n",
      " Mean   :0.006   Mean   :0.045   Mean   :0.283   Mean   :0.621  \n",
      " 3rd Qu.:0.000   3rd Qu.:0.000   3rd Qu.:1.000   3rd Qu.:1.000  \n",
      " Max.   :1.000   Max.   :1.000   Max.   :1.000   Max.   :1.000  \n",
      "                                                                \n",
      "      ihd        mental_health    arrhythmias        copd          obesity     \n",
      " Min.   :0.000   Min.   :0.000   Min.   :0.00   Min.   :0.000   Min.   :0.000  \n",
      " 1st Qu.:0.000   1st Qu.:0.000   1st Qu.:0.00   1st Qu.:0.000   1st Qu.:0.000  \n",
      " Median :0.000   Median :0.000   Median :0.00   Median :0.000   Median :0.000  \n",
      " Mean   :0.495   Mean   :0.089   Mean   :0.49   Mean   :0.242   Mean   :0.058  \n",
      " 3rd Qu.:1.000   3rd Qu.:0.000   3rd Qu.:1.00   3rd Qu.:0.000   3rd Qu.:0.000  \n",
      " Max.   :1.000   Max.   :1.000   Max.   :1.00   Max.   :1.000   Max.   :1.000  \n",
      "                                                                               \n",
      "      pvd      renal_disease   valvular_disease metastatic_cancer\n",
      " Min.   :0.0   Min.   :0.000   Min.   :0.000    Min.   :0.000    \n",
      " 1st Qu.:0.0   1st Qu.:0.000   1st Qu.:0.000    1st Qu.:0.000    \n",
      " Median :0.0   Median :0.000   Median :0.000    Median :0.000    \n",
      " Mean   :0.1   Mean   :0.249   Mean   :0.244    Mean   :0.009    \n",
      " 3rd Qu.:0.0   3rd Qu.:0.000   3rd Qu.:0.000    3rd Qu.:0.000    \n",
      " Max.   :1.0   Max.   :1.000   Max.   :1.000    Max.   :1.000    \n",
      "                                                                 \n",
      "   pacemaker       pneumonia     prior_appts_attended   prior_dnas    \n",
      " Min.   :0.000   Min.   :0.000   Min.   : 0.000       Min.   : 0.000  \n",
      " 1st Qu.:0.000   1st Qu.:0.000   1st Qu.: 1.000       1st Qu.: 0.000  \n",
      " Median :0.000   Median :0.000   Median : 3.000       Median : 0.000  \n",
      " Mean   :0.037   Mean   :0.117   Mean   : 5.538       Mean   : 0.501  \n",
      " 3rd Qu.:0.000   3rd Qu.:0.000   3rd Qu.: 8.000       3rd Qu.: 1.000  \n",
      " Max.   :1.000   Max.   :1.000   Max.   :62.000       Max.   :10.000  \n",
      "                                                                      \n",
      "      pci            stroke         senile         quintile     ethnicgroup   \n",
      " Min.   :0.000   Min.   :0.00   Min.   :0.000   Min.   :0.00   Min.   :1.000  \n",
      " 1st Qu.:0.000   1st Qu.:0.00   1st Qu.:0.000   1st Qu.:2.00   1st Qu.:1.000  \n",
      " Median :0.000   Median :0.00   Median :0.000   Median :3.00   Median :1.000  \n",
      " Mean   :0.029   Mean   :0.02   Mean   :0.044   Mean   :3.16   Mean   :1.231  \n",
      " 3rd Qu.:0.000   3rd Qu.:0.00   3rd Qu.:0.000   3rd Qu.:4.00   3rd Qu.:1.000  \n",
      " Max.   :1.000   Max.   :1.00   Max.   :1.000   Max.   :5.00   Max.   :9.000  \n",
      "                                                NA's   :6      NA's   :43     \n",
      "    fu_time      \n",
      " Min.   :   0.0  \n",
      " 1st Qu.: 117.8  \n",
      " Median : 475.0  \n",
      " Mean   : 466.0  \n",
      " 3rd Qu.: 743.2  \n",
      " Max.   :1107.0  \n",
      "                 \n"
     ]
    }
   ],
   "source": [
    "%%R\n",
    "# Missing data\n",
    "summary(data)"
   ]
  },
  {
   "cell_type": "code",
   "execution_count": 8,
   "metadata": {},
   "outputs": [
    {
     "name": "stdout",
     "output_type": "stream",
     "text": [
      "Call:\n",
      "coxph(formula = Surv(fu_time, death) ~ age + gender + copd + \n",
      "    prior_dnas, data = data)\n",
      "\n",
      "  n= 1000, number of events= 492 \n",
      "\n",
      "                coef exp(coef)  se(coef)      z Pr(>|z|)    \n",
      "age         0.063406  1.065459  0.005521 11.484  < 2e-16 ***\n",
      "gender     -0.274285  0.760115  0.093788 -2.925  0.00345 ** \n",
      "copd        0.128151  1.136725  0.103391  1.239  0.21517    \n",
      "prior_dnas  0.147603  1.159053  0.035616  4.144 3.41e-05 ***\n",
      "---\n",
      "Signif. codes:  0 ‘***’ 0.001 ‘**’ 0.01 ‘*’ 0.05 ‘.’ 0.1 ‘ ’ 1\n",
      "\n",
      "           exp(coef) exp(-coef) lower .95 upper .95\n",
      "age           1.0655     0.9386    1.0540    1.0771\n",
      "gender        0.7601     1.3156    0.6325    0.9135\n",
      "copd          1.1367     0.8797    0.9282    1.3921\n",
      "prior_dnas    1.1591     0.8628    1.0809    1.2429\n",
      "\n",
      "Concordance= 0.665  (se = 0.013 )\n",
      "Likelihood ratio test= 161.2  on 4 df,   p=<2e-16\n",
      "Wald test            = 136.1  on 4 df,   p=<2e-16\n",
      "Score (logrank) test = 133.6  on 4 df,   p=<2e-16\n",
      "\n"
     ]
    }
   ],
   "source": [
    "%%R\n",
    "# Multiple model\n",
    "gender = as.factor(data[,\"gender\"])\n",
    "cox <- coxph(Surv(fu_time, death) ~ age + gender + copd + prior_dnas, data=data)\n",
    "summary(cox)"
   ]
  },
  {
   "cell_type": "markdown",
   "metadata": {},
   "source": [
    "# Not convergence\n",
    "take in mind zeros, or categories without one or both events."
   ]
  },
  {
   "cell_type": "markdown",
   "metadata": {},
   "source": [
    "# Cox model fit\n",
    "\n",
    "\n",
    "## Residuals\n",
    "\n",
    "### schoenfeld residuals\n",
    "This test allow us know if the hazards are proportional.\n",
    "\n",
    "### Martingale residual\n",
    "This allow us if continuous predictors are linearly related the event of interest.\n",
    "\n",
    "### Deviance residual\n",
    "To see influential points.\n",
    "# check that apply for all variables."
   ]
  },
  {
   "cell_type": "code",
   "execution_count": 9,
   "metadata": {},
   "outputs": [
    {
     "name": "stdout",
     "output_type": "stream",
     "text": [
      "       chisq df    p\n",
      "copd    1.24  1 0.27\n",
      "GLOBAL  1.24  1 0.27\n"
     ]
    },
    {
     "data": {
      "image/png": "[encoded data removed]"
     },
     "metadata": {},
     "output_type": "display_data"
    }
   ],
   "source": [
    "%%R\n",
    "fit <- coxph(Surv(fu_time, death) ~ copd, data=data) # fit the desired model\n",
    "temp <- cox.zph(fit)# apply the cox.zph function to the desired model\n",
    "print(temp) # display the results\n",
    "plot(temp) # plot the curve\n",
    "#The relatively high p value from the test confirms what our eyes suggest from looking at the plot. The line is pretty flat, meaning that the effect of gender changes little during the follow-up period. That’s good news. (take from coursera)\n"
   ]
  },
  {
   "cell_type": "code",
   "execution_count": null,
   "metadata": {},
   "outputs": [],
   "source": []
  },
  {
   "cell_type": "code",
   "execution_count": 10,
   "metadata": {},
   "outputs": [],
   "source": [
    "import pandas as pd \n",
    "df = pd.read_csv('data.csv')"
   ]
  },
  {
   "cell_type": "markdown",
   "metadata": {},
   "source": [
    "# Survival in python\n",
    "df\n"
   ]
  },
  {
   "cell_type": "markdown",
   "metadata": {},
   "source": [
    "# Cox regression in python"
   ]
  },
  {
   "cell_type": "code",
   "execution_count": 11,
   "metadata": {},
   "outputs": [
    {
     "name": "stdout",
     "output_type": "stream",
     "text": [
      "                               Results: PHReg\n",
      "=============================================================================\n",
      "Model:                          PH Reg            Sample size:           1000\n",
      "Dependent variable:             fu_time           Num. events:           492 \n",
      "Ties:                           Breslow                                      \n",
      "-----------------------------------------------------------------------------\n",
      "                     log HR   log HR SE    HR      t    P>|t|  [0.025  0.975]\n",
      "-----------------------------------------------------------------------------\n",
      "C(gender)[T.2]       -0.2792      0.0945 0.7564 -2.9543 0.0031 0.6285  0.9103\n",
      "C(copd)[T.1]          0.1227      0.1042 1.1305  1.1779 0.2389 0.9218  1.3866\n",
      "C(prior_dnas)[T.1]    0.0394      0.1270 1.0402  0.3104 0.7562 0.8110  1.3341\n",
      "C(prior_dnas)[T.2]    0.3410      0.1978 1.4063  1.7236 0.0848 0.9543  2.0724\n",
      "C(prior_dnas)[T.3]    0.5659      0.2576 1.7610  2.1971 0.0280 1.0630  2.9175\n",
      "C(prior_dnas)[T.4]    0.9018      0.3615 2.4641  2.4946 0.0126 1.2132  5.0046\n",
      "C(prior_dnas)[T.5]    0.9886      0.7135 2.6876  1.3856 0.1659 0.6638 10.8817\n",
      "C(prior_dnas)[T.6]    1.5658      0.7137 4.7865  2.1941 0.0282 1.1818 19.3857\n",
      "C(prior_dnas)[T.7]    1.6925      0.7130 5.4332  2.3739 0.0176 1.3433 21.9754\n",
      "C(prior_dnas)[T.8]  -21.7954 136423.2007 0.0000 -0.0002 0.9999 0.0000     inf\n",
      "C(prior_dnas)[T.10]   0.7688      0.7122 2.1572  1.0794 0.2804 0.5341  8.7123\n",
      "age                   0.0635      0.0055 1.0655 11.4859 0.0000 1.0540  1.0771\n",
      "=============================================================================\n",
      "Confidence intervals are for the hazard ratios\n"
     ]
    },
    {
     "name": "stderr",
     "output_type": "stream",
     "text": [
      "/usr/lib64/python3.8/site-packages/statsmodels/base/model.py:567: ConvergenceWarning: Maximum Likelihood optimization failed to converge. Check mle_retvals\n",
      "  warn(\"Maximum Likelihood optimization failed to converge. \"\n",
      "/usr/local/lib64/python3.8/site-packages/pandas/core/arraylike.py:358: RuntimeWarning: overflow encountered in exp\n",
      "  result = getattr(ufunc, method)(*inputs, **kwargs)\n"
     ]
    }
   ],
   "source": [
    "import statsmodels.api as sm\n",
    "import statsmodels.formula.api as smf\n",
    "mod = smf.phreg(\"fu_time ~ age + C(gender) + C(copd) + C(prior_dnas)\",  status='death', data=df)\n",
    "rslt = mod.fit()\n",
    "print(rslt.summary())"
   ]
  },
  {
   "cell_type": "markdown",
   "metadata": {},
   "source": [
    "# Simulate data\n"
   ]
  },
  {
   "cell_type": "markdown",
   "metadata": {},
   "source": [
    "\\section{Exponential distribution}\n",
    "\n",
    "\\begin{equation}\n",
    "\n",
    "\\end{equation}"
   ]
  },
  {
   "cell_type": "code",
   "execution_count": 12,
   "metadata": {},
   "outputs": [],
   "source": [
    "def dexp(x, parameter, mode='pdf'):\n",
    "    if mode=='pdf':\n",
    "        pdf = parameter * np.exp(-parameter*x)\n",
    "        return pdf\n",
    "    if mode=='cdf':\n",
    "        cdf = 1 - np.exp(np.exp(-parameter*x))\n",
    "        return cdf\n",
    "        "
   ]
  },
  {
   "cell_type": "code",
   "execution_count": 13,
   "metadata": {},
   "outputs": [
    {
     "ename": "NameError",
     "evalue": "name 'plt' is not defined",
     "output_type": "error",
     "traceback": [
      "\u001b[0;31m---------------------------------------------------------------------------\u001b[0m",
      "\u001b[0;31mNameError\u001b[0m                                 Traceback (most recent call last)",
      "\u001b[0;32m<ipython-input-13-529c8ca93b5f>\u001b[0m in \u001b[0;36m<module>\u001b[0;34m\u001b[0m\n\u001b[1;32m      1\u001b[0m \u001b[0mx\u001b[0m \u001b[0;34m=\u001b[0m \u001b[0mnp\u001b[0m\u001b[0;34m.\u001b[0m\u001b[0mlinspace\u001b[0m\u001b[0;34m(\u001b[0m\u001b[0;36m1\u001b[0m\u001b[0;34m,\u001b[0m\u001b[0;36m10\u001b[0m\u001b[0;34m,\u001b[0m\u001b[0;36m100\u001b[0m\u001b[0;34m)\u001b[0m\u001b[0;34m\u001b[0m\u001b[0;34m\u001b[0m\u001b[0m\n\u001b[1;32m      2\u001b[0m \u001b[0mlmbd\u001b[0m \u001b[0;34m=\u001b[0m \u001b[0;36m0.3\u001b[0m\u001b[0;34m\u001b[0m\u001b[0;34m\u001b[0m\u001b[0m\n\u001b[0;32m----> 3\u001b[0;31m \u001b[0mplt\u001b[0m\u001b[0;34m.\u001b[0m\u001b[0mplot\u001b[0m\u001b[0;34m(\u001b[0m\u001b[0mx\u001b[0m\u001b[0;34m,\u001b[0m \u001b[0mdexp\u001b[0m\u001b[0;34m(\u001b[0m\u001b[0mx\u001b[0m\u001b[0;34m,\u001b[0m\u001b[0mlmbd\u001b[0m\u001b[0;34m)\u001b[0m\u001b[0;34m)\u001b[0m\u001b[0;34m\u001b[0m\u001b[0;34m\u001b[0m\u001b[0m\n\u001b[0m",
      "\u001b[0;31mNameError\u001b[0m: name 'plt' is not defined"
     ]
    }
   ],
   "source": [
    "x = np.linspace(1,10,100)\n",
    "lmbd = 0.3\n",
    "plt.plot(x, dexp(x,lmbd))"
   ]
  },
  {
   "cell_type": "code",
   "execution_count": 14,
   "metadata": {},
   "outputs": [],
   "source": [
    "import numpy as np\n",
    "import pandas as pd\n",
    "import matplotlib.pyplot as plt\n",
    "from statsmodels.duration.hazard_regression import PHReg"
   ]
  },
  {
   "cell_type": "code",
   "execution_count": 15,
   "metadata": {},
   "outputs": [],
   "source": [
    "exog = np.zeros(1000)  # Create a array of zeros.\n",
    "exog[500:] = 1\n",
    "endog = -np.exp(np.log(2)*exog) * np.log(np.random.uniform(size=1000))"
   ]
  },
  {
   "cell_type": "code",
   "execution_count": 16,
   "metadata": {},
   "outputs": [
    {
     "data": {
      "text/plain": [
       "(array([601., 225.,  94.,  44.,  13.,  14.,   5.,   1.,   1.,   2.]),\n",
       " array([4.42352946e-04, 1.27591734e+00, 2.55139233e+00, 3.82686732e+00,\n",
       "        5.10234231e+00, 6.37781730e+00, 7.65329228e+00, 8.92876727e+00,\n",
       "        1.02042423e+01, 1.14797173e+01, 1.27551922e+01]),\n",
       " <a list of 10 Patch objects>)"
      ]
     },
     "execution_count": 16,
     "metadata": {},
     "output_type": "execute_result"
    },
    {
     "data": {
      "image/png": "[encoded data removed]",
      "text/plain": [
       "<Figure size 432x288 with 1 Axes>"
      ]
     },
     "metadata": {
      "needs_background": "light"
     },
     "output_type": "display_data"
    }
   ],
   "source": [
    "plt.hist(endog)"
   ]
  },
  {
   "cell_type": "code",
   "execution_count": 17,
   "metadata": {},
   "outputs": [
    {
     "data": {
      "text/plain": [
       "-2.0"
      ]
     },
     "execution_count": 17,
     "metadata": {},
     "output_type": "execute_result"
    }
   ],
   "source": [
    "-np.exp(np.log(2)*1)"
   ]
  },
  {
   "cell_type": "code",
   "execution_count": null,
   "metadata": {},
   "outputs": [],
   "source": [
    "mod = PHReg(endog, exog)\n",
    "rslt = mod.fit()\n",
    "print (rslt.summary())"
   ]
  },
  {
   "cell_type": "code",
   "execution_count": 2,
   "metadata": {},
   "outputs": [],
   "source": [
    "\n"
   ]
  },
  {
   "cell_type": "code",
   "execution_count": 13,
   "metadata": {},
   "outputs": [
    {
     "name": "stderr",
     "output_type": "stream",
     "text": [
      "/usr/local/lib64/python3.8/site-packages/sklearn/utils/validation.py:63: FutureWarning: Arrays of bytes/strings is being converted to decimal numbers if dtype='numeric'. This behavior is deprecated in 0.24 and will be removed in 1.1 (renaming of 0.26). Please convert your data to numeric values explicitly instead.\n",
      "  return f(*args, **kwargs)\n"
     ]
    }
   ],
   "source": [
    "from sksurv.datasets import load_whas500\n",
    "from sksurv.linear_model import CoxPHSurvivalAnalysis\n",
    "X, y = load_whas500()\n",
    "estimator = CoxPHSurvivalAnalysis().fit(X, y)\n",
    "chf_funcs = estimator.predict_cumulative_hazard_function(X.iloc[:10])"
   ]
  },
  {
   "cell_type": "code",
   "execution_count": 14,
   "metadata": {},
   "outputs": [
    {
     "data": {
      "text/html": [
       "<div>\n",
       "<style scoped>\n",
       "    .dataframe tbody tr th:only-of-type {\n",
       "        vertical-align: middle;\n",
       "    }\n",
       "\n",
       "    .dataframe tbody tr th {\n",
       "        vertical-align: top;\n",
       "    }\n",
       "\n",
       "    .dataframe thead th {\n",
       "        text-align: right;\n",
       "    }\n",
       "</style>\n",
       "<table border=\"1\" class=\"dataframe\">\n",
       "  <thead>\n",
       "    <tr style=\"text-align: right;\">\n",
       "      <th></th>\n",
       "      <th>afb</th>\n",
       "      <th>age</th>\n",
       "      <th>av3</th>\n",
       "      <th>bmi</th>\n",
       "      <th>chf</th>\n",
       "      <th>cvd</th>\n",
       "      <th>diasbp</th>\n",
       "      <th>gender</th>\n",
       "      <th>hr</th>\n",
       "      <th>los</th>\n",
       "      <th>miord</th>\n",
       "      <th>mitype</th>\n",
       "      <th>sho</th>\n",
       "      <th>sysbp</th>\n",
       "    </tr>\n",
       "  </thead>\n",
       "  <tbody>\n",
       "    <tr>\n",
       "      <th>0</th>\n",
       "      <td>1</td>\n",
       "      <td>83.0</td>\n",
       "      <td>0</td>\n",
       "      <td>25.54051</td>\n",
       "      <td>0</td>\n",
       "      <td>1</td>\n",
       "      <td>78.0</td>\n",
       "      <td>0</td>\n",
       "      <td>89.0</td>\n",
       "      <td>5.0</td>\n",
       "      <td>1</td>\n",
       "      <td>0</td>\n",
       "      <td>0</td>\n",
       "      <td>152.0</td>\n",
       "    </tr>\n",
       "    <tr>\n",
       "      <th>1</th>\n",
       "      <td>0</td>\n",
       "      <td>49.0</td>\n",
       "      <td>0</td>\n",
       "      <td>24.02398</td>\n",
       "      <td>0</td>\n",
       "      <td>1</td>\n",
       "      <td>60.0</td>\n",
       "      <td>0</td>\n",
       "      <td>84.0</td>\n",
       "      <td>5.0</td>\n",
       "      <td>0</td>\n",
       "      <td>1</td>\n",
       "      <td>0</td>\n",
       "      <td>120.0</td>\n",
       "    </tr>\n",
       "    <tr>\n",
       "      <th>2</th>\n",
       "      <td>0</td>\n",
       "      <td>70.0</td>\n",
       "      <td>0</td>\n",
       "      <td>22.14290</td>\n",
       "      <td>0</td>\n",
       "      <td>0</td>\n",
       "      <td>88.0</td>\n",
       "      <td>1</td>\n",
       "      <td>83.0</td>\n",
       "      <td>5.0</td>\n",
       "      <td>0</td>\n",
       "      <td>1</td>\n",
       "      <td>0</td>\n",
       "      <td>147.0</td>\n",
       "    </tr>\n",
       "    <tr>\n",
       "      <th>3</th>\n",
       "      <td>0</td>\n",
       "      <td>70.0</td>\n",
       "      <td>0</td>\n",
       "      <td>26.63187</td>\n",
       "      <td>1</td>\n",
       "      <td>1</td>\n",
       "      <td>76.0</td>\n",
       "      <td>0</td>\n",
       "      <td>65.0</td>\n",
       "      <td>10.0</td>\n",
       "      <td>0</td>\n",
       "      <td>1</td>\n",
       "      <td>0</td>\n",
       "      <td>123.0</td>\n",
       "    </tr>\n",
       "    <tr>\n",
       "      <th>4</th>\n",
       "      <td>0</td>\n",
       "      <td>70.0</td>\n",
       "      <td>0</td>\n",
       "      <td>24.41255</td>\n",
       "      <td>0</td>\n",
       "      <td>1</td>\n",
       "      <td>85.0</td>\n",
       "      <td>0</td>\n",
       "      <td>63.0</td>\n",
       "      <td>6.0</td>\n",
       "      <td>0</td>\n",
       "      <td>1</td>\n",
       "      <td>0</td>\n",
       "      <td>135.0</td>\n",
       "    </tr>\n",
       "    <tr>\n",
       "      <th>...</th>\n",
       "      <td>...</td>\n",
       "      <td>...</td>\n",
       "      <td>...</td>\n",
       "      <td>...</td>\n",
       "      <td>...</td>\n",
       "      <td>...</td>\n",
       "      <td>...</td>\n",
       "      <td>...</td>\n",
       "      <td>...</td>\n",
       "      <td>...</td>\n",
       "      <td>...</td>\n",
       "      <td>...</td>\n",
       "      <td>...</td>\n",
       "      <td>...</td>\n",
       "    </tr>\n",
       "    <tr>\n",
       "      <th>495</th>\n",
       "      <td>1</td>\n",
       "      <td>76.0</td>\n",
       "      <td>0</td>\n",
       "      <td>27.96454</td>\n",
       "      <td>0</td>\n",
       "      <td>1</td>\n",
       "      <td>88.0</td>\n",
       "      <td>1</td>\n",
       "      <td>68.0</td>\n",
       "      <td>1.0</td>\n",
       "      <td>0</td>\n",
       "      <td>1</td>\n",
       "      <td>0</td>\n",
       "      <td>112.0</td>\n",
       "    </tr>\n",
       "    <tr>\n",
       "      <th>496</th>\n",
       "      <td>0</td>\n",
       "      <td>76.0</td>\n",
       "      <td>0</td>\n",
       "      <td>24.26862</td>\n",
       "      <td>0</td>\n",
       "      <td>1</td>\n",
       "      <td>96.0</td>\n",
       "      <td>1</td>\n",
       "      <td>88.0</td>\n",
       "      <td>3.0</td>\n",
       "      <td>0</td>\n",
       "      <td>0</td>\n",
       "      <td>0</td>\n",
       "      <td>208.0</td>\n",
       "    </tr>\n",
       "    <tr>\n",
       "      <th>497</th>\n",
       "      <td>1</td>\n",
       "      <td>57.0</td>\n",
       "      <td>0</td>\n",
       "      <td>42.13576</td>\n",
       "      <td>0</td>\n",
       "      <td>1</td>\n",
       "      <td>74.0</td>\n",
       "      <td>1</td>\n",
       "      <td>123.0</td>\n",
       "      <td>3.0</td>\n",
       "      <td>0</td>\n",
       "      <td>0</td>\n",
       "      <td>0</td>\n",
       "      <td>120.0</td>\n",
       "    </tr>\n",
       "    <tr>\n",
       "      <th>498</th>\n",
       "      <td>0</td>\n",
       "      <td>67.0</td>\n",
       "      <td>0</td>\n",
       "      <td>27.40905</td>\n",
       "      <td>0</td>\n",
       "      <td>1</td>\n",
       "      <td>62.0</td>\n",
       "      <td>0</td>\n",
       "      <td>59.0</td>\n",
       "      <td>1.0</td>\n",
       "      <td>0</td>\n",
       "      <td>1</td>\n",
       "      <td>0</td>\n",
       "      <td>112.0</td>\n",
       "    </tr>\n",
       "    <tr>\n",
       "      <th>499</th>\n",
       "      <td>0</td>\n",
       "      <td>98.0</td>\n",
       "      <td>0</td>\n",
       "      <td>19.48575</td>\n",
       "      <td>0</td>\n",
       "      <td>1</td>\n",
       "      <td>100.0</td>\n",
       "      <td>0</td>\n",
       "      <td>99.0</td>\n",
       "      <td>3.0</td>\n",
       "      <td>0</td>\n",
       "      <td>1</td>\n",
       "      <td>0</td>\n",
       "      <td>160.0</td>\n",
       "    </tr>\n",
       "  </tbody>\n",
       "</table>\n",
       "<p>500 rows × 14 columns</p>\n",
       "</div>"
      ],
      "text/plain": [
       "    afb   age av3       bmi chf cvd  diasbp gender     hr   los miord mitype  \\\n",
       "0     1  83.0   0  25.54051   0   1    78.0      0   89.0   5.0     1      0   \n",
       "1     0  49.0   0  24.02398   0   1    60.0      0   84.0   5.0     0      1   \n",
       "2     0  70.0   0  22.14290   0   0    88.0      1   83.0   5.0     0      1   \n",
       "3     0  70.0   0  26.63187   1   1    76.0      0   65.0  10.0     0      1   \n",
       "4     0  70.0   0  24.41255   0   1    85.0      0   63.0   6.0     0      1   \n",
       "..   ..   ...  ..       ...  ..  ..     ...    ...    ...   ...   ...    ...   \n",
       "495   1  76.0   0  27.96454   0   1    88.0      1   68.0   1.0     0      1   \n",
       "496   0  76.0   0  24.26862   0   1    96.0      1   88.0   3.0     0      0   \n",
       "497   1  57.0   0  42.13576   0   1    74.0      1  123.0   3.0     0      0   \n",
       "498   0  67.0   0  27.40905   0   1    62.0      0   59.0   1.0     0      1   \n",
       "499   0  98.0   0  19.48575   0   1   100.0      0   99.0   3.0     0      1   \n",
       "\n",
       "    sho  sysbp  \n",
       "0     0  152.0  \n",
       "1     0  120.0  \n",
       "2     0  147.0  \n",
       "3     0  123.0  \n",
       "4     0  135.0  \n",
       "..   ..    ...  \n",
       "495   0  112.0  \n",
       "496   0  208.0  \n",
       "497   0  120.0  \n",
       "498   0  112.0  \n",
       "499   0  160.0  \n",
       "\n",
       "[500 rows x 14 columns]"
      ]
     },
     "execution_count": 14,
     "metadata": {},
     "output_type": "execute_result"
    }
   ],
   "source": [
    "X   # x is the covariables and\n",
    "y # have the event in tuples having the first as event and second as time"
   ]
  },
  {
   "cell_type": "code",
   "execution_count": 15,
   "metadata": {},
   "outputs": [
    {
     "data": {
      "text/plain": [
       "array([(False, 2.178e+03), (False, 2.172e+03), (False, 2.190e+03),\n",
       "       ( True, 2.970e+02), (False, 2.131e+03), ( True, 1.000e+00),\n",
       "       (False, 2.122e+03), ( True, 1.496e+03), ( True, 9.200e+02),\n",
       "       (False, 2.175e+03), (False, 2.173e+03), ( True, 1.671e+03),\n",
       "       (False, 2.192e+03), ( True, 8.650e+02), (False, 2.166e+03),\n",
       "       (False, 2.168e+03), ( True, 9.050e+02), ( True, 2.353e+03),\n",
       "       (False, 2.146e+03), ( True, 6.100e+01), ( True, 2.358e+03),\n",
       "       (False, 2.114e+03), (False, 2.132e+03), (False, 2.139e+03),\n",
       "       (False, 2.048e+03), (False, 2.152e+03), ( True, 6.000e+00),\n",
       "       (False, 2.156e+03), ( True, 1.180e+02), (False, 2.064e+03),\n",
       "       ( True, 8.490e+02), ( True, 7.140e+02), (False, 2.057e+03),\n",
       "       ( True, 2.000e+00), ( True, 7.000e+00), (False, 2.151e+03),\n",
       "       ( True, 6.000e+00), ( True, 4.220e+02), ( True, 3.540e+02),\n",
       "       (False, 2.065e+03), (False, 2.048e+03), ( True, 1.065e+03),\n",
       "       ( True, 5.350e+02), (False, 2.118e+03), ( True, 9.700e+01),\n",
       "       (False, 2.113e+03), ( True, 1.000e+02), (False, 2.032e+03),\n",
       "       ( True, 1.317e+03), (False, 2.126e+03), (False, 2.126e+03),\n",
       "       (False, 2.123e+03), ( True, 6.700e+02), ( True, 3.430e+02),\n",
       "       ( True, 3.000e+00), (False, 2.009e+03), ( True, 6.400e+01),\n",
       "       (False, 1.994e+03), ( True, 1.579e+03), (False, 1.993e+03),\n",
       "       ( True, 2.000e+00), (False, 1.955e+03), ( True, 4.200e+01),\n",
       "       (False, 1.964e+03), ( True, 1.548e+03), ( True, 4.460e+02),\n",
       "       (False, 1.976e+03), (False, 2.009e+03), (False, 1.942e+03),\n",
       "       ( True, 1.000e+00), ( True, 1.510e+02), (False, 2.006e+03),\n",
       "       (False, 2.086e+03), (False, 1.969e+03), (False, 1.939e+03),\n",
       "       (False, 1.939e+03), (False, 1.940e+03), ( True, 1.576e+03),\n",
       "       (False, 1.941e+03), ( True, 1.970e+02), (False, 1.933e+03),\n",
       "       ( True, 9.500e+01), ( True, 2.160e+03), (False, 2.084e+03),\n",
       "       (False, 2.145e+03), (False, 2.125e+03), (False, 1.920e+03),\n",
       "       ( True, 4.000e+00), ( True, 1.553e+03), ( True, 2.350e+02),\n",
       "       ( True, 1.920e+02), ( True, 1.233e+03), ( True, 8.800e+01),\n",
       "       ( True, 1.954e+03), ( True, 9.030e+02), ( True, 6.120e+02),\n",
       "       (False, 2.025e+03), ( True, 2.000e+00), ( True, 7.000e+00),\n",
       "       (False, 1.887e+03), ( True, 1.870e+02), ( True, 1.010e+02),\n",
       "       (False, 1.885e+03), ( True, 9.360e+02), ( True, 3.630e+02),\n",
       "       ( True, 1.048e+03), (False, 1.977e+03), (False, 1.936e+03),\n",
       "       (False, 1.887e+03), (False, 1.889e+03), (False, 1.923e+03),\n",
       "       (False, 2.123e+03), ( True, 1.100e+01), (False, 2.100e+03),\n",
       "       (False, 1.914e+03), (False, 1.883e+03), ( True, 3.300e+01),\n",
       "       (False, 1.931e+03), ( True, 1.506e+03), (False, 1.858e+03),\n",
       "       ( True, 6.000e+00), (False, 1.854e+03), (False, 1.847e+03),\n",
       "       (False, 1.858e+03), ( True, 1.870e+02), ( True, 4.600e+01),\n",
       "       (False, 2.061e+03), (False, 1.893e+03), (False, 2.108e+03),\n",
       "       ( True, 8.300e+01), ( True, 3.300e+01), ( True, 1.377e+03),\n",
       "       (False, 1.863e+03), (False, 1.880e+03), ( True, 1.359e+03),\n",
       "       (False, 1.831e+03), (False, 1.836e+03), ( True, 1.159e+03),\n",
       "       ( True, 1.130e+02), ( True, 1.217e+03), (False, 1.899e+03),\n",
       "       (False, 1.934e+03), ( True, 1.527e+03), (False, 1.954e+03),\n",
       "       (False, 1.979e+03), ( True, 1.232e+03), (False, 2.066e+03),\n",
       "       ( True, 1.624e+03), ( True, 5.300e+02), ( True, 1.096e+03),\n",
       "       ( True, 3.450e+02), (False, 1.919e+03), ( True, 1.577e+03),\n",
       "       (False, 1.883e+03), (False, 1.904e+03), (False, 2.083e+03),\n",
       "       ( True, 1.460e+02), ( True, 2.350e+03), ( True, 1.926e+03),\n",
       "       (False, 2.114e+03), ( True, 7.180e+02), (False, 1.451e+03),\n",
       "       ( True, 3.580e+02), ( True, 4.650e+02), (False, 1.381e+03),\n",
       "       ( True, 1.100e+01), (False, 1.385e+03), (False, 1.346e+03),\n",
       "       (False, 1.338e+03), ( True, 1.370e+02), (False, 1.449e+03),\n",
       "       ( True, 1.700e+01), ( True, 1.536e+03), ( True, 1.627e+03),\n",
       "       ( True, 1.000e+01), ( True, 1.000e+00), ( True, 1.000e+00),\n",
       "       ( True, 3.130e+02), ( True, 1.200e+03), (False, 1.384e+03),\n",
       "       ( True, 1.660e+02), (False, 1.420e+03), ( True, 5.620e+02),\n",
       "       (False, 1.302e+03), (False, 1.253e+03), (False, 1.438e+03),\n",
       "       (False, 1.400e+03), (False, 1.329e+03), (False, 1.325e+03),\n",
       "       (False, 1.257e+03), (False, 1.319e+03), (False, 1.256e+03),\n",
       "       (False, 1.298e+03), ( True, 1.800e+01), (False, 1.408e+03),\n",
       "       (False, 1.333e+03), (False, 1.378e+03), (False, 1.353e+03),\n",
       "       ( True, 6.540e+02), (False, 1.262e+03), (False, 1.314e+03),\n",
       "       (False, 1.280e+03), (False, 1.308e+03), (False, 1.433e+03),\n",
       "       (False, 1.430e+03), ( True, 7.000e+00), ( True, 1.000e+00),\n",
       "       (False, 1.272e+03), (False, 1.277e+03), ( True, 1.080e+02),\n",
       "       ( True, 2.000e+00), (False, 1.409e+03), (False, 1.454e+03),\n",
       "       ( True, 1.090e+02), (False, 1.363e+03), (False, 1.374e+03),\n",
       "       (False, 1.365e+03), ( True, 6.000e+00), ( True, 2.000e+02),\n",
       "       (False, 1.336e+03), (False, 1.317e+03), ( True, 1.340e+02),\n",
       "       ( True, 5.700e+01), ( True, 1.165e+03), ( True, 1.400e+02),\n",
       "       ( True, 2.000e+01), ( True, 7.000e+00), (False, 1.190e+03),\n",
       "       ( True, 1.400e+02), ( True, 1.054e+03), (False, 1.108e+03),\n",
       "       (False, 1.106e+03), (False, 1.106e+03), ( True, 2.590e+02),\n",
       "       ( True, 1.000e+00), (False, 1.125e+03), (False, 1.162e+03),\n",
       "       (False, 1.140e+03), (False, 1.157e+03), (False, 1.231e+03),\n",
       "       ( True, 9.530e+02), (False, 1.248e+03), (False, 1.235e+03),\n",
       "       (False, 1.290e+03), ( True, 1.152e+03), ( True, 1.900e+01),\n",
       "       (False, 1.251e+03), ( True, 1.136e+03), (False, 1.182e+03),\n",
       "       ( True, 2.000e+00), ( True, 1.690e+02), ( True, 7.040e+02),\n",
       "       ( True, 1.430e+02), ( True, 2.000e+00), (False, 1.232e+03),\n",
       "       ( True, 4.790e+02), (False, 1.211e+03), (False, 1.232e+03),\n",
       "       (False, 1.223e+03), (False, 1.191e+03), ( True, 1.100e+01),\n",
       "       ( True, 1.000e+01), (False, 1.117e+03), ( True, 1.174e+03),\n",
       "       (False, 1.123e+03), ( True, 3.850e+02), (False, 1.109e+03),\n",
       "       (False, 1.098e+03), (False, 1.114e+03), ( True, 6.400e+01),\n",
       "       (False, 1.151e+03), ( True, 9.100e+01), ( True, 6.140e+02),\n",
       "       (False, 1.140e+03), ( True, 5.420e+02), (False, 1.199e+03),\n",
       "       (False, 1.248e+03), (False, 1.163e+03), ( True, 3.210e+02),\n",
       "       (False, 1.187e+03), (False, 1.207e+03), ( True, 2.950e+02),\n",
       "       (False, 1.273e+03), (False, 1.189e+03), (False, 1.234e+03),\n",
       "       ( True, 5.200e+01), (False, 1.203e+03), ( True, 1.290e+02),\n",
       "       ( True, 2.970e+02), (False, 1.458e+03), ( True, 1.170e+02),\n",
       "       ( True, 3.120e+02), (False, 1.244e+03), (False, 1.160e+03),\n",
       "       ( True, 2.870e+02), ( True, 1.377e+03), (False, 1.320e+03),\n",
       "       (False, 1.245e+03), ( True, 4.970e+02), ( True, 2.890e+02),\n",
       "       (False, 1.150e+03), (False, 1.266e+03), (False, 1.266e+03),\n",
       "       (False, 1.265e+03), (False, 1.126e+03), ( True, 2.600e+01),\n",
       "       ( True, 1.320e+02), ( True, 5.520e+02), (False, 1.444e+03),\n",
       "       ( True, 1.400e+01), (False, 1.454e+03), (False, 1.123e+03),\n",
       "       (False, 1.279e+03), (False, 1.366e+03), (False, 1.196e+03),\n",
       "       ( True, 1.350e+02), (False, 1.114e+03), ( True, 3.700e+01),\n",
       "       (False, 1.390e+03), ( True, 3.200e+01), (False, 1.187e+03),\n",
       "       (False, 1.224e+03), (False, 1.121e+03), ( True, 1.900e+01),\n",
       "       (False, 1.456e+03), (False, 1.332e+03), (False, 1.174e+03),\n",
       "       (False, 1.274e+03), ( True, 3.820e+02), (False, 1.295e+03),\n",
       "       (False, 1.102e+03), (False, 1.169e+03), (False, 1.136e+03),\n",
       "       (False, 1.105e+03), (False, 1.320e+03), ( True, 1.279e+03),\n",
       "       (False, 1.178e+03), (False, 1.170e+03), (False, 1.336e+03),\n",
       "       ( True, 2.200e+01), (False, 1.103e+03), (False, 1.107e+03),\n",
       "       (False, 1.347e+03), ( True, 6.320e+02), (False, 1.161e+03),\n",
       "       (False, 1.388e+03), ( True, 6.000e+00), ( True, 3.200e+01),\n",
       "       (False, 5.730e+02), (False, 5.500e+02), (False, 5.700e+02),\n",
       "       ( True, 1.600e+01), ( True, 5.000e+00), (False, 5.780e+02),\n",
       "       ( True, 1.000e+00), (False, 5.500e+02), (False, 5.890e+02),\n",
       "       (False, 5.420e+02), ( True, 2.260e+02), ( True, 8.100e+01),\n",
       "       (False, 5.500e+02), (False, 5.290e+02), (False, 5.230e+02),\n",
       "       (False, 5.220e+02), (False, 5.100e+02), (False, 5.240e+02),\n",
       "       (False, 4.800e+02), (False, 4.590e+02), ( True, 4.190e+02),\n",
       "       (False, 4.330e+02), (False, 4.450e+02), (False, 5.160e+02),\n",
       "       ( True, 3.400e+01), (False, 4.120e+02), (False, 3.980e+02),\n",
       "       (False, 3.970e+02), (False, 4.030e+02), (False, 3.860e+02),\n",
       "       (False, 3.760e+02), (False, 3.730e+02), (False, 3.710e+02),\n",
       "       (False, 6.590e+02), ( True, 2.330e+02), (False, 6.310e+02),\n",
       "       ( True, 6.000e+01), ( True, 5.370e+02), ( True, 4.730e+02),\n",
       "       (False, 6.750e+02), ( True, 6.460e+02), (False, 5.890e+02),\n",
       "       (False, 6.060e+02), ( True, 2.740e+02), ( True, 1.690e+02),\n",
       "       (False, 5.680e+02), ( True, 6.730e+02), ( True, 5.590e+02),\n",
       "       ( True, 9.300e+01), ( True, 5.500e+01), (False, 5.440e+02),\n",
       "       ( True, 6.490e+02), (False, 5.070e+02), (False, 5.210e+02),\n",
       "       ( True, 4.060e+02), (False, 5.870e+02), (False, 5.320e+02),\n",
       "       ( True, 5.300e+01), (False, 4.660e+02), (False, 4.420e+02),\n",
       "       ( True, 1.450e+02), ( True, 3.300e+01), (False, 4.510e+02),\n",
       "       (False, 4.970e+02), ( True, 1.700e+01), (False, 5.060e+02),\n",
       "       (False, 5.210e+02), ( True, 1.160e+02), ( True, 6.200e+01),\n",
       "       ( True, 2.690e+02), ( True, 1.100e+01), (False, 5.160e+02),\n",
       "       (False, 4.780e+02), ( True, 4.900e+01), (False, 4.860e+02),\n",
       "       ( True, 7.600e+01), ( True, 1.000e+00), (False, 5.110e+02),\n",
       "       (False, 4.580e+02), (False, 4.400e+02), (False, 4.520e+02),\n",
       "       ( True, 1.800e+01), ( True, 1.800e+01), ( True, 5.000e+00),\n",
       "       ( True, 2.000e+01), ( True, 3.920e+02), ( True, 6.900e+01),\n",
       "       ( True, 2.000e+00), ( True, 2.200e+01), (False, 4.260e+02),\n",
       "       (False, 4.490e+02), ( True, 7.000e+00), (False, 4.030e+02),\n",
       "       (False, 3.710e+02), (False, 3.680e+02), (False, 4.110e+02),\n",
       "       (False, 3.900e+02), ( True, 3.590e+02), (False, 4.080e+02),\n",
       "       (False, 4.070e+02), (False, 4.220e+02), (False, 3.760e+02),\n",
       "       ( True, 3.590e+02), ( True, 5.700e+01), ( True, 3.280e+02),\n",
       "       (False, 4.120e+02), ( True, 3.000e+00), (False, 4.580e+02),\n",
       "       (False, 4.180e+02), (False, 4.450e+02), (False, 4.590e+02),\n",
       "       ( True, 2.000e+00), (False, 4.240e+02), (False, 4.160e+02),\n",
       "       ( True, 3.000e+00), (False, 4.270e+02), (False, 4.450e+02),\n",
       "       (False, 4.210e+02), ( True, 4.000e+00), (False, 3.990e+02),\n",
       "       (False, 5.190e+02), (False, 6.090e+02), (False, 4.460e+02),\n",
       "       (False, 6.260e+02), (False, 4.450e+02), ( True, 1.900e+01),\n",
       "       (False, 4.500e+02), (False, 4.000e+02), (False, 4.580e+02),\n",
       "       (False, 5.350e+02), ( True, 4.420e+02), ( True, 4.050e+02),\n",
       "       (False, 4.570e+02), (False, 4.370e+02), (False, 5.510e+02),\n",
       "       (False, 3.710e+02), ( True, 4.670e+02), ( True, 6.440e+02),\n",
       "       (False, 3.860e+02), (False, 5.540e+02), (False, 5.730e+02),\n",
       "       (False, 4.750e+02), ( True, 3.970e+02), ( True, 1.400e+01),\n",
       "       ( True, 7.000e+00), ( True, 6.900e+01), ( True, 3.100e+01),\n",
       "       ( True, 1.000e+01), (False, 6.620e+02), (False, 7.250e+02),\n",
       "       (False, 5.320e+02), ( True, 2.590e+02)],\n",
       "      dtype=[('fstat', '?'), ('lenfol', '<f8')])"
      ]
     },
     "execution_count": 15,
     "metadata": {},
     "output_type": "execute_result"
    }
   ],
   "source": []
  },
  {
   "cell_type": "code",
   "execution_count": 33,
   "metadata": {},
   "outputs": [
    {
     "data": {
      "image/png": "[encoded data removed]",
      "text/plain": [
       "<Figure size 432x288 with 1 Axes>"
      ]
     },
     "metadata": {
      "needs_background": "light"
     },
     "output_type": "display_data"
    }
   ],
   "source": [
    "chf_funcs\n",
    "for fn in chf_funcs:\n",
    "    plt.step(fn.x, fn(fn.x), where=\"post\")\n",
    "plt.ylim(0, 1)\n",
    "plt.show()"
   ]
  },
  {
   "cell_type": "code",
   "execution_count": 34,
   "metadata": {},
   "outputs": [
    {
     "name": "stderr",
     "output_type": "stream",
     "text": [
      "/usr/local/lib64/python3.8/site-packages/sklearn/utils/validation.py:63: FutureWarning: Arrays of bytes/strings is being converted to decimal numbers if dtype='numeric'. This behavior is deprecated in 0.24 and will be removed in 1.1 (renaming of 0.26). Please convert your data to numeric values explicitly instead.\n",
      "  return f(*args, **kwargs)\n"
     ]
    }
   ],
   "source": [
    "surv_funcs = estimator.predict_survival_function(X.iloc[:10])"
   ]
  },
  {
   "cell_type": "code",
   "execution_count": 36,
   "metadata": {},
   "outputs": [
    {
     "data": {
      "image/png": "[encoded data removed]",
      "text/plain": [
       "<Figure size 432x288 with 1 Axes>"
      ]
     },
     "metadata": {
      "needs_background": "light"
     },
     "output_type": "display_data"
    }
   ],
   "source": [
    "for fn in surv_funcs:\n",
    "    plt.step(fn.x, fn(fn.x), where=\"post\")\n",
    "plt.ylim(0, 1)\n",
    "plt.show()"
   ]
  },
  {
   "cell_type": "code",
   "execution_count": 9,
   "metadata": {},
   "outputs": [
    {
     "data": {
      "text/html": [
       "<div>\n",
       "<style scoped>\n",
       "    .dataframe tbody tr th:only-of-type {\n",
       "        vertical-align: middle;\n",
       "    }\n",
       "\n",
       "    .dataframe tbody tr th {\n",
       "        vertical-align: top;\n",
       "    }\n",
       "\n",
       "    .dataframe thead th {\n",
       "        text-align: right;\n",
       "    }\n",
       "</style>\n",
       "<table border=\"1\" class=\"dataframe\">\n",
       "  <thead>\n",
       "    <tr style=\"text-align: right;\">\n",
       "      <th></th>\n",
       "      <th>id</th>\n",
       "      <th>death</th>\n",
       "      <th>los</th>\n",
       "      <th>age</th>\n",
       "      <th>gender</th>\n",
       "      <th>cancer</th>\n",
       "      <th>cabg</th>\n",
       "      <th>crt</th>\n",
       "      <th>defib</th>\n",
       "      <th>dementia</th>\n",
       "      <th>...</th>\n",
       "      <th>pacemaker</th>\n",
       "      <th>pneumonia</th>\n",
       "      <th>prior_appts_attended</th>\n",
       "      <th>prior_dnas</th>\n",
       "      <th>pci</th>\n",
       "      <th>stroke</th>\n",
       "      <th>senile</th>\n",
       "      <th>quintile</th>\n",
       "      <th>ethnicgroup</th>\n",
       "      <th>fu_time</th>\n",
       "    </tr>\n",
       "  </thead>\n",
       "  <tbody>\n",
       "    <tr>\n",
       "      <th>0</th>\n",
       "      <td>1</td>\n",
       "      <td>0</td>\n",
       "      <td>2</td>\n",
       "      <td>90</td>\n",
       "      <td>2</td>\n",
       "      <td>0</td>\n",
       "      <td>0</td>\n",
       "      <td>0</td>\n",
       "      <td>0</td>\n",
       "      <td>0</td>\n",
       "      <td>...</td>\n",
       "      <td>0</td>\n",
       "      <td>0</td>\n",
       "      <td>4</td>\n",
       "      <td>0</td>\n",
       "      <td>0</td>\n",
       "      <td>0</td>\n",
       "      <td>0</td>\n",
       "      <td>2.0</td>\n",
       "      <td>NaN</td>\n",
       "      <td>416</td>\n",
       "    </tr>\n",
       "    <tr>\n",
       "      <th>1</th>\n",
       "      <td>2</td>\n",
       "      <td>0</td>\n",
       "      <td>10</td>\n",
       "      <td>74</td>\n",
       "      <td>1</td>\n",
       "      <td>0</td>\n",
       "      <td>0</td>\n",
       "      <td>0</td>\n",
       "      <td>0</td>\n",
       "      <td>0</td>\n",
       "      <td>...</td>\n",
       "      <td>0</td>\n",
       "      <td>1</td>\n",
       "      <td>9</td>\n",
       "      <td>1</td>\n",
       "      <td>0</td>\n",
       "      <td>0</td>\n",
       "      <td>0</td>\n",
       "      <td>4.0</td>\n",
       "      <td>1.0</td>\n",
       "      <td>648</td>\n",
       "    </tr>\n",
       "    <tr>\n",
       "      <th>2</th>\n",
       "      <td>3</td>\n",
       "      <td>0</td>\n",
       "      <td>3</td>\n",
       "      <td>83</td>\n",
       "      <td>2</td>\n",
       "      <td>0</td>\n",
       "      <td>0</td>\n",
       "      <td>0</td>\n",
       "      <td>0</td>\n",
       "      <td>0</td>\n",
       "      <td>...</td>\n",
       "      <td>0</td>\n",
       "      <td>0</td>\n",
       "      <td>1</td>\n",
       "      <td>0</td>\n",
       "      <td>0</td>\n",
       "      <td>0</td>\n",
       "      <td>0</td>\n",
       "      <td>3.0</td>\n",
       "      <td>1.0</td>\n",
       "      <td>466</td>\n",
       "    </tr>\n",
       "    <tr>\n",
       "      <th>3</th>\n",
       "      <td>4</td>\n",
       "      <td>0</td>\n",
       "      <td>1</td>\n",
       "      <td>79</td>\n",
       "      <td>1</td>\n",
       "      <td>0</td>\n",
       "      <td>0</td>\n",
       "      <td>0</td>\n",
       "      <td>0</td>\n",
       "      <td>0</td>\n",
       "      <td>...</td>\n",
       "      <td>1</td>\n",
       "      <td>0</td>\n",
       "      <td>9</td>\n",
       "      <td>2</td>\n",
       "      <td>1</td>\n",
       "      <td>1</td>\n",
       "      <td>0</td>\n",
       "      <td>5.0</td>\n",
       "      <td>1.0</td>\n",
       "      <td>441</td>\n",
       "    </tr>\n",
       "    <tr>\n",
       "      <th>4</th>\n",
       "      <td>5</td>\n",
       "      <td>0</td>\n",
       "      <td>17</td>\n",
       "      <td>94</td>\n",
       "      <td>2</td>\n",
       "      <td>0</td>\n",
       "      <td>0</td>\n",
       "      <td>0</td>\n",
       "      <td>0</td>\n",
       "      <td>0</td>\n",
       "      <td>...</td>\n",
       "      <td>0</td>\n",
       "      <td>0</td>\n",
       "      <td>3</td>\n",
       "      <td>0</td>\n",
       "      <td>0</td>\n",
       "      <td>0</td>\n",
       "      <td>0</td>\n",
       "      <td>2.0</td>\n",
       "      <td>1.0</td>\n",
       "      <td>371</td>\n",
       "    </tr>\n",
       "    <tr>\n",
       "      <th>...</th>\n",
       "      <td>...</td>\n",
       "      <td>...</td>\n",
       "      <td>...</td>\n",
       "      <td>...</td>\n",
       "      <td>...</td>\n",
       "      <td>...</td>\n",
       "      <td>...</td>\n",
       "      <td>...</td>\n",
       "      <td>...</td>\n",
       "      <td>...</td>\n",
       "      <td>...</td>\n",
       "      <td>...</td>\n",
       "      <td>...</td>\n",
       "      <td>...</td>\n",
       "      <td>...</td>\n",
       "      <td>...</td>\n",
       "      <td>...</td>\n",
       "      <td>...</td>\n",
       "      <td>...</td>\n",
       "      <td>...</td>\n",
       "      <td>...</td>\n",
       "    </tr>\n",
       "    <tr>\n",
       "      <th>995</th>\n",
       "      <td>996</td>\n",
       "      <td>0</td>\n",
       "      <td>8</td>\n",
       "      <td>73</td>\n",
       "      <td>1</td>\n",
       "      <td>0</td>\n",
       "      <td>0</td>\n",
       "      <td>0</td>\n",
       "      <td>0</td>\n",
       "      <td>0</td>\n",
       "      <td>...</td>\n",
       "      <td>0</td>\n",
       "      <td>0</td>\n",
       "      <td>0</td>\n",
       "      <td>0</td>\n",
       "      <td>0</td>\n",
       "      <td>0</td>\n",
       "      <td>0</td>\n",
       "      <td>5.0</td>\n",
       "      <td>1.0</td>\n",
       "      <td>351</td>\n",
       "    </tr>\n",
       "    <tr>\n",
       "      <th>996</th>\n",
       "      <td>997</td>\n",
       "      <td>1</td>\n",
       "      <td>5</td>\n",
       "      <td>84</td>\n",
       "      <td>2</td>\n",
       "      <td>0</td>\n",
       "      <td>0</td>\n",
       "      <td>0</td>\n",
       "      <td>0</td>\n",
       "      <td>0</td>\n",
       "      <td>...</td>\n",
       "      <td>0</td>\n",
       "      <td>0</td>\n",
       "      <td>9</td>\n",
       "      <td>0</td>\n",
       "      <td>0</td>\n",
       "      <td>0</td>\n",
       "      <td>0</td>\n",
       "      <td>3.0</td>\n",
       "      <td>1.0</td>\n",
       "      <td>1030</td>\n",
       "    </tr>\n",
       "    <tr>\n",
       "      <th>997</th>\n",
       "      <td>998</td>\n",
       "      <td>0</td>\n",
       "      <td>3</td>\n",
       "      <td>87</td>\n",
       "      <td>1</td>\n",
       "      <td>0</td>\n",
       "      <td>0</td>\n",
       "      <td>0</td>\n",
       "      <td>0</td>\n",
       "      <td>0</td>\n",
       "      <td>...</td>\n",
       "      <td>0</td>\n",
       "      <td>0</td>\n",
       "      <td>3</td>\n",
       "      <td>0</td>\n",
       "      <td>0</td>\n",
       "      <td>0</td>\n",
       "      <td>0</td>\n",
       "      <td>4.0</td>\n",
       "      <td>1.0</td>\n",
       "      <td>15</td>\n",
       "    </tr>\n",
       "    <tr>\n",
       "      <th>998</th>\n",
       "      <td>999</td>\n",
       "      <td>1</td>\n",
       "      <td>62</td>\n",
       "      <td>86</td>\n",
       "      <td>2</td>\n",
       "      <td>0</td>\n",
       "      <td>0</td>\n",
       "      <td>0</td>\n",
       "      <td>0</td>\n",
       "      <td>0</td>\n",
       "      <td>...</td>\n",
       "      <td>0</td>\n",
       "      <td>1</td>\n",
       "      <td>1</td>\n",
       "      <td>0</td>\n",
       "      <td>0</td>\n",
       "      <td>0</td>\n",
       "      <td>0</td>\n",
       "      <td>2.0</td>\n",
       "      <td>1.0</td>\n",
       "      <td>339</td>\n",
       "    </tr>\n",
       "    <tr>\n",
       "      <th>999</th>\n",
       "      <td>1000</td>\n",
       "      <td>1</td>\n",
       "      <td>8</td>\n",
       "      <td>75</td>\n",
       "      <td>1</td>\n",
       "      <td>0</td>\n",
       "      <td>0</td>\n",
       "      <td>0</td>\n",
       "      <td>0</td>\n",
       "      <td>0</td>\n",
       "      <td>...</td>\n",
       "      <td>0</td>\n",
       "      <td>1</td>\n",
       "      <td>5</td>\n",
       "      <td>0</td>\n",
       "      <td>0</td>\n",
       "      <td>0</td>\n",
       "      <td>0</td>\n",
       "      <td>5.0</td>\n",
       "      <td>1.0</td>\n",
       "      <td>8</td>\n",
       "    </tr>\n",
       "  </tbody>\n",
       "</table>\n",
       "<p>1000 rows × 31 columns</p>\n",
       "</div>"
      ],
      "text/plain": [
       "       id  death  los  age  gender  cancer  cabg  crt  defib  dementia  ...  \\\n",
       "0       1      0    2   90       2       0     0    0      0         0  ...   \n",
       "1       2      0   10   74       1       0     0    0      0         0  ...   \n",
       "2       3      0    3   83       2       0     0    0      0         0  ...   \n",
       "3       4      0    1   79       1       0     0    0      0         0  ...   \n",
       "4       5      0   17   94       2       0     0    0      0         0  ...   \n",
       "..    ...    ...  ...  ...     ...     ...   ...  ...    ...       ...  ...   \n",
       "995   996      0    8   73       1       0     0    0      0         0  ...   \n",
       "996   997      1    5   84       2       0     0    0      0         0  ...   \n",
       "997   998      0    3   87       1       0     0    0      0         0  ...   \n",
       "998   999      1   62   86       2       0     0    0      0         0  ...   \n",
       "999  1000      1    8   75       1       0     0    0      0         0  ...   \n",
       "\n",
       "     pacemaker  pneumonia  prior_appts_attended  prior_dnas  pci  stroke  \\\n",
       "0            0          0                     4           0    0       0   \n",
       "1            0          1                     9           1    0       0   \n",
       "2            0          0                     1           0    0       0   \n",
       "3            1          0                     9           2    1       1   \n",
       "4            0          0                     3           0    0       0   \n",
       "..         ...        ...                   ...         ...  ...     ...   \n",
       "995          0          0                     0           0    0       0   \n",
       "996          0          0                     9           0    0       0   \n",
       "997          0          0                     3           0    0       0   \n",
       "998          0          1                     1           0    0       0   \n",
       "999          0          1                     5           0    0       0   \n",
       "\n",
       "     senile  quintile  ethnicgroup  fu_time  \n",
       "0         0       2.0          NaN      416  \n",
       "1         0       4.0          1.0      648  \n",
       "2         0       3.0          1.0      466  \n",
       "3         0       5.0          1.0      441  \n",
       "4         0       2.0          1.0      371  \n",
       "..      ...       ...          ...      ...  \n",
       "995       0       5.0          1.0      351  \n",
       "996       0       3.0          1.0     1030  \n",
       "997       0       4.0          1.0       15  \n",
       "998       0       2.0          1.0      339  \n",
       "999       0       5.0          1.0        8  \n",
       "\n",
       "[1000 rows x 31 columns]"
      ]
     },
     "execution_count": 9,
     "metadata": {},
     "output_type": "execute_result"
    }
   ],
   "source": [
    "data"
   ]
  },
  {
   "cell_type": "code",
   "execution_count": 39,
   "metadata": {},
   "outputs": [
    {
     "name": "stdout",
     "output_type": "stream",
     "text": [
      "[ 0.0618755  -0.24814961  0.14361732  0.16434664 -0.30760246 -0.82161391\n",
      "  0.40781821]\n"
     ]
    },
    {
     "data": {
      "text/plain": [
       "array([1.06382989, 0.7802432 , 1.15444224, 1.1786228 , 0.73520753,\n",
       "       0.43972141, 1.50353381])"
      ]
     },
     "execution_count": 39,
     "metadata": {},
     "output_type": "execute_result"
    }
   ],
   "source": [
    "import pandas as pd \n",
    "import numpy as np\n",
    "base = pd.read_csv('data.csv')\n",
    "data = base.copy()\n",
    "binnary= ['gender','ethnicgroup','copd']\n",
    "for var in binnary:\n",
    "    data = pd.get_dummies(data,prefix=[var], columns = [var], drop_first=True)\n",
    "from sksurv.linear_model import CoxPHSurvivalAnalysis\n",
    "import sksurv\n",
    "estimator = CoxPHSurvivalAnalysis()\n",
    "data.dropna(inplace=True)\n",
    "y= data.iloc[:,[1,-1]]\n",
    "Xv = ['age','gender_2',  'copd_1','prior_dnas' , 'ethnicgroup_2.0', 'ethnicgroup_3.0',\n",
    "       'ethnicgroup_9.0']\n",
    "X = data[Xv]\n",
    "y =  sksurv.util.Surv.from_dataframe('death', 'fu_time', data=data)\n",
    "estimator = CoxPHSurvivalAnalysis().fit(X, y)\n",
    "print(estimator.coef_)  ## This is usedt to show   this correspond to hazard ratio..\n",
    "np.exp(estimator.coef_) #each time that you have a year additional the hazard increase in 0.57 percent.\n",
    "## intepreting results..\n",
    "# for instance the hazard of copd is 15 higher relative those who dont have copd.\n"
   ]
  },
  {
   "cell_type": "markdown",
   "metadata": {},
   "source": [
    "# Asumptions\n",
    "\\section{schoenfeld residual}\n",
    "test if two hazard function are parallel or proportional.\n",
    "\n",
    "the rigth way is that the line be flat, the effect of the variable change little during follow up-\n",
    "\n",
    "\n",
    "\n",
    "\n",
    "\\section{martingale residual}\n",
    "test if continuous variable has a linear relationship with outcome\n",
    "\n",
    "\\section{Deviance residual}\n",
    "one point could affect dramatically the estimation.\n",
    "\n",
    "\n",
    "\n",
    "\n",
    "## choose predictors:\n",
    "\n",
    "\n"
   ]
  },
  {
   "cell_type": "code",
   "execution_count": 34,
   "metadata": {},
   "outputs": [
    {
     "data": {
      "text/plain": [
       "Index(['id', 'death', 'los', 'age', 'cancer', 'cabg', 'crt', 'defib',\n",
       "       'dementia', 'diabetes', 'hypertension', 'ihd', 'mental_health',\n",
       "       'arrhythmias', 'obesity', 'pvd', 'renal_disease', 'valvular_disease',\n",
       "       'metastatic_cancer', 'pacemaker', 'pneumonia', 'prior_appts_attended',\n",
       "       'prior_dnas', 'pci', 'stroke', 'senile', 'quintile', 'fu_time',\n",
       "       'gender_2', 'ethnicgroup_2.0', 'ethnicgroup_3.0', 'ethnicgroup_9.0',\n",
       "       'copd_1'],\n",
       "      dtype='object')"
      ]
     },
     "execution_count": 34,
     "metadata": {},
     "output_type": "execute_result"
    }
   ],
   "source": []
  }
 ],
 "metadata": {
  "hide_input": false,
  "kernelspec": {
   "display_name": "Python 3",
   "language": "python",
   "name": "python3"
  },
  "language_info": {
   "codemirror_mode": {
    "name": "ipython",
    "version": 3
   },
   "file_extension": ".py",
   "mimetype": "text/x-python",
   "name": "python",
   "nbconvert_exporter": "python",
   "pygments_lexer": "ipython3",
   "version": "3.8.6"
  },
  "latex_envs": {
   "LaTeX_envs_menu_present": true,
   "autoclose": false,
   "autocomplete": true,
   "bibliofile": "biblio.bib",
   "cite_by": "apalike",
   "current_citInitial": 1,
   "eqLabelWithNumbers": true,
   "eqNumInitial": 1,
   "hotkeys": {
    "equation": "Ctrl-E",
    "itemize": "Ctrl-I"
   },
   "labels_anchors": false,
   "latex_user_defs": false,
   "report_style_numbering": false,
   "user_envs_cfg": false
  },
  "varInspector": {
   "cols": {
    "lenName": 16,
    "lenType": 16,
    "lenVar": 40
   },
   "kernels_config": {
    "python": {
     "delete_cmd_postfix": "",
     "delete_cmd_prefix": "del ",
     "library": "var_list.py",
     "varRefreshCmd": "print(var_dic_list())"
    },
    "r": {
     "delete_cmd_postfix": ") ",
     "delete_cmd_prefix": "rm(",
     "library": "var_list.r",
     "varRefreshCmd": "cat(var_dic_list()) "
    }
   },
   "types_to_exclude": [
    "module",
    "function",
    "builtin_function_or_method",
    "instance",
    "_Feature"
   ],
   "window_display": false
  }
 },
 "nbformat": 4,
 "nbformat_minor": 4
}
